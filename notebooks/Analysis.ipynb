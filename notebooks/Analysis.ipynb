{
 "cells": [
  {
   "cell_type": "markdown",
   "metadata": {
    "colab_type": "text",
    "id": "KYAgbKCTIf0a"
   },
   "source": [
    "# Analysis of accuracy and speed of stochastic simulation libraries"
   ]
  },
  {
   "cell_type": "markdown",
   "metadata": {},
   "source": [
    "<!--TABLE OF CONTENTS-->\n",
    "Contents:\n",
    "- [Functions](#Functions)\n",
    "- [Models](#Models)\n",
    "    - [System 1: Birth-death process](#System-1:-Birth-death-process)\n",
    "    - [System 2: Immigration-death process](#System-2:-Immigration-death-process)\n",
    "    - [System 3: Dimerization](#System-3:-Dimerization)\n",
    "    - [System 4: Batch immigration-death process](#System-4:-Batch-immigration-death-process)\n",
    "- [Accuracy](#Accuracy)\n",
    "    - [Exact simulations](#Exact-simulations)\n",
    "    - [Approximate simulations](#Approximate-simulations)\n",
    "    - [Example plot](#Example-plot)\n",
    "    - [Direct](#Direct)\n",
    "    - [Tau leaping](#Tau-leaping)\n",
    "    - [Tau adaptive](#Tau-adaptive)\n",
    "    - [Overall take homes](#Overall-take-homes)\n",
    "- [Speed](#Speed)\n",
    "- [Speed vs. accuracy comparison](#Speed-vs.-accuracy-comparison)\n",
    "- [What algorithm to use?](#What-algorithm-to-use?)"
   ]
  },
  {
   "cell_type": "code",
   "execution_count": 1,
   "metadata": {
    "colab": {},
    "colab_type": "code",
    "id": "XiZjRmf_If0b"
   },
   "outputs": [],
   "source": [
    "# imports\n",
    "import numpy as np\n",
    "import pandas as pd\n",
    "import seaborn as sns\n",
    "import matplotlib.pyplot as plt\n",
    "import json\n",
    "import pathlib\n",
    "from IPython.display import Image\n",
    "# from brokenaxes import brokenaxes\n",
    "\n",
    "\n",
    "sns.set_style(\"whitegrid\")"
   ]
  },
  {
   "cell_type": "markdown",
   "metadata": {
    "colab_type": "text",
    "id": "POb0rf4PIf0f"
   },
   "source": [
    "---\n",
    "## Functions"
   ]
  },
  {
   "cell_type": "code",
   "execution_count": 2,
   "metadata": {
    "colab": {},
    "colab_type": "code",
    "id": "6pV8ohESIf0g"
   },
   "outputs": [],
   "source": [
    "from utils import (\n",
    "    make_accuracy_df,\n",
    "    make_benchmark_df,\n",
    "    plot_accuracy_barplot,\n",
    "    plot_benchmark_barplot,\n",
    "    LIB_PALETTE,\n",
    "    ALGO_PALETTE,\n",
    ")"
   ]
  },
  {
   "cell_type": "markdown",
   "metadata": {
    "colab_type": "text",
    "id": "qITlxvgkIf0t"
   },
   "source": [
    "---\n",
    "## Models\n",
    "\n",
    "To compare the accuracies of the algorithms, we used a subset of the models recommended in the [SBML test suite's stochastic component](https://github.com/sbmlteam/sbml-test-suite/blob/master/cases/stochastic/DSMTS-userguide-31v2.pdf). They consist of 4 systems with different parameter combinations, resulting in a total of 14 models or 14 system-parameter combinations. The systems and parameter combinations are outlined below."
   ]
  },
  {
   "cell_type": "markdown",
   "metadata": {
    "colab_type": "text",
    "id": "ZY1I0ACUIf0t"
   },
   "source": [
    "### System 1: Birth-death process\n",
    "\n",
    "This model involves one species $\\mathbf{X}$ and consists of the following reactions:\n",
    "$$\\textit{birth: } \\mathbf{X} \\xrightarrow{\\lambda} 2\\mathbf{X} $$\n",
    "$$\\textit{death: } \\mathbf{X} \\xrightarrow{\\mu} \\varnothing $$\n",
    "\n",
    "#### Models\n",
    "\n",
    "| Model ID  | $X[0]$ | $\\lambda$ | $\\mu$ |\n",
    "|:---------:|:------:|:---------:|-------|\n",
    "|   001-01  | 100    |    0.1    | 0.11  |\n",
    "|   001-03  | 100    |    1.0    | 1.1   |\n",
    "|   001-04  | 10     |    0.1    | 0.11  |\n",
    "|   001-05  | 10000  |    0.1    | 0.11  |\n",
    "|   001-11  | 100    |    0.0    | 0.055 |"
   ]
  },
  {
   "cell_type": "markdown",
   "metadata": {
    "colab_type": "text",
    "id": "883P6r5sIf0u"
   },
   "source": [
    "### System 2: Immigration-death process\n",
    "\n",
    "This model involves one species $\\mathbf{X}$ and consists of the following reactions:\n",
    "$$ \\textit{immigration: } \\varnothing \\xrightarrow{\\alpha} \\mathbf{X} $$\n",
    "$$ \\textit{death: } \\mathbf{X} \\xrightarrow{\\mu} \\varnothing $$\n",
    "\n",
    "#### Models\n",
    "\n",
    "| Model ID  |$$X[0]$$| $\\alpha$ | $\\mu$ |\n",
    "|:---------:|:------:|:--------:|-------|\n",
    "|   002-01  | 0.0    |    1.0   | 0.1   |\n",
    "|   002-02  | 0.0    |   10.0   | 0.1   |\n",
    "|   002-03  | 0.0    |    5.0   | 0.1   |\n",
    "|   002-04  | 0.0    |   1000   | 0.1   |"
   ]
  },
  {
   "cell_type": "markdown",
   "metadata": {
    "colab_type": "text",
    "id": "pMdu1MaUIf0u"
   },
   "source": [
    "### System 3: Dimerization\n",
    "\n",
    "This model involves two species $\\mathbf{X}$, $\\mathbf{X_2}$ and consists of the following reactions:\n",
    "\n",
    "$$ \\textit{dimerization: } 2\\mathbf{X} \\xrightarrow{k_1} \\mathbf{X_2} $$\n",
    "$$ \\textit{dissociation: } \\mathbf{X_2} \\xrightarrow{k_2} 2\\mathbf{X} $$\n",
    "\n",
    ">NOTE:\n",
    ">The dimerization reaction is second order\n",
    "\n",
    "#### Models\n",
    "\n",
    "| Model ID  |$$X[0]$$|$$X_2[0]$$| $k_1$  | $k_2$ |\n",
    "|:---------:|:------:|:--------:|--------|-------|\n",
    "|   003-01  | 100    |     0    | 0.001  | 0.01  |\n",
    "|   003-02  | 1000   |     0    | 0.0002 | 0.004 |"
   ]
  },
  {
   "cell_type": "markdown",
   "metadata": {
    "colab_type": "text",
    "id": "83sFiHSjIf0v"
   },
   "source": [
    "### System 4: Batch immigration-death process\n",
    "\n",
    "This model involves one species $\\mathbf{X}$ and consists of the following reactions:\n",
    "$$ \\textit{immigration: } \\varnothing \\xrightarrow{\\alpha} K\\mathbf{X} $$\n",
    "$$ \\textit{death: } \\mathbf{X} \\xrightarrow{\\mu} \\varnothing $$\n",
    "\n",
    "#### Models\n",
    "\n",
    "| Model ID  | $$X[0]$$ | $K$ | $\\alpha$ | $\\mu$ |\n",
    "|:---------:|:--------:|:---:|:--------:|-------|\n",
    "|   004-01  |    0.0   |  5  |    1.0   | 0.2   |\n",
    "|   004-02  |    0.0   |  10 |    1.0   | 0.4   |\n",
    "|   004-03  |    0.0   | 100 |    1.0   | 4.0   |"
   ]
  },
  {
   "cell_type": "markdown",
   "metadata": {
    "colab_type": "text",
    "id": "ZcDMrgIvIf1D"
   },
   "source": [
    "---\n",
    "## Accuracy\n",
    "\n",
    "In order to test the accuracy of the libraries and algorithms we perform 10,000 independent simulations of a model.The simulated results are compared with analytical results at t=0,1,...,50 to obtain the accuracy.\n",
    "The following equations were used to test for the accuracy. The equations are different for the exact and approximate algorithms, as recommended by the [SBML Test Suite](https://github.com/sbmlteam/sbml-test-suite).\n",
    "\n",
    "### Exact simulations\n",
    "\n",
    "Two test statistics are used to score the accuracy, $Z_t$ and $Y_t$.\n",
    "\n",
    "$$ Z_t \\equiv \\sqrt{n} \\left( \\frac{\\hat{X}_t - \\mu_t}{\\sigma_t} \\right) $$\n",
    "$$ Y_t \\equiv \\sqrt{\\frac{n}{2}} \\left( \\frac{\\hat{S}^2_t}{\\sigma^2_t} - 1 \\right) $$\n",
    "\n",
    "\n",
    "Symbol | Parameter\n",
    "--- | ---\n",
    "$\\mu_t$ | Analytical mean of species counts at time $t$\n",
    "$\\sigma_t$ | Analytical standard deviation of species counts at time $t$\n",
    "$\\hat{X}_t$ | Observed mean of species counts at time $t$\n",
    "$\\hat{S}_t$ | Observed standard deviation of species counts at time $t$\n",
    "$n$ | Number of repetitions of the simulations to generate the sample\n",
    "\n",
    "$Z_t$ is expected to fall in the interval [-3, 3], whereas $Y_t$ is expected to fall in the interval [-5, 5].\n",
    "\n",
    "#### Score\n",
    "\n",
    "We computed the accuracy score as the percentage of times $Z_t$ and $Y_t$ fall in their expected intervals. For models with a single species, there are 50 mean tests + 50 std. dev. tests, since there are 50 time points. For models with two species, there are 100 mean tests + 100 std. dev. tests.\n",
    "\n",
    "### Approximate simulations\n",
    "\n",
    "$$ A_t = \\hat{X}_t / \\mu_t $$\n",
    "$$ B_t = \\hat{S}_t / \\sigma_t $$\n",
    "\n",
    "$A_t$ and $B_t$ are expected to fall in the interval [0.98, 1.02]. \n",
    "\n",
    "#### Score\n",
    "\n",
    "We computed the accuracy score as the percentage of times $A_t$ and $B_t$ fall in their expected intervals. For models with a single species, there are 50 mean tests + 50 std. dev. tests, since there are 50 time points. For models with two species, there are 100 mean tests + 100 std. dev. tests."
   ]
  },
  {
   "cell_type": "markdown",
   "metadata": {
    "colab_type": "text",
    "id": "fO3Ts0PAZL8P"
   },
   "source": [
    "### Example plot\n",
    "\n",
    "Below is an example of what these statistics look like overlaid with a summary of the simulations themselves.\n",
    "1. In the top left panel, analytical means ($\\mu_t$) are plotted as circles and observed means ($\\hat{X}_t$) are plotted as the blue line. Green circles indicate points where $Z_t$ falls in it's desired interval. Red circles indcate $Z_t$ outside it's desired interval.\n",
    "1. In the top right panel, analytical std. devs. ($\\sigma_t$) are plotted as circles and observed std. devs. are plotted as the blue line ($\\hat{S}_t$). Green circles indicate points where $Y_t$ falls in it's desired interval. Red circles indcate $Y_t$ outside it's desired interval.\n",
    "1. In the bottom left panel, the ratio of means ($A_t$) is plotted. Green circles indicate $A_t$ falls in its desired interval while red circles indicate it falls outside the desired interval.\n",
    "1. In the bottom right panel, the ratio of means ($B_t$) is plotted. Green circles indicate $B_t$ falls in its desired interval while red circles indicate it falls outside the desired interval."
   ]
  },
  {
   "cell_type": "code",
   "execution_count": 3,
   "metadata": {
    "colab": {
     "base_uri": "https://localhost:8080/",
     "height": 623
    },
    "colab_type": "code",
    "id": "REQp5KEdWiiE",
    "outputId": "8b5c02da-8f31-4ec0-bf59-0d2d708b25b6"
   },
   "outputs": [
    {
     "data": {
      "image/png": "[encoded data removed]",
      "text/plain": [
       "<IPython.core.display.Image object>"
      ]
     },
     "execution_count": 3,
     "metadata": {},
     "output_type": "execute_result"
    }
   ],
   "source": [
    "Image(filename=\"cayenne_direct_00003_10000.png\")"
   ]
  },
  {
   "cell_type": "code",
   "execution_count": 4,
   "metadata": {
    "colab": {},
    "colab_type": "code",
    "id": "OrkaK3awbcv0"
   },
   "outputs": [],
   "source": [
    "# read accuracy data\n",
    "cayenne_results = make_accuracy_df(\"cayenne_results.csv\")\n",
    "tellurium_results = make_accuracy_df(\"Tellurium_results.csv\")\n",
    "biosimulator_results = make_accuracy_df(\"BioSimulator_results.csv\")\n",
    "biosimulatorintp_results = make_accuracy_df(\"BioSimulatorIntp_results.csv\")\n",
    "gillespiessa_results = make_accuracy_df(\"GillespieSSA_results.csv\")\n",
    "accuracy_results = pd.concat(\n",
    "    [cayenne_results, tellurium_results, biosimulator_results, biosimulatorintp_results, \n",
    "     gillespiessa_results]\n",
    ")"
   ]
  },
  {
   "cell_type": "code",
   "execution_count": 5,
   "metadata": {
    "colab": {
     "base_uri": "https://localhost:8080/",
     "height": 226
    },
    "colab_type": "code",
    "id": "18yEKDtQbgdX",
    "outputId": "77b673eb-4c99-4514-c5eb-b84999f0347d"
   },
   "outputs": [
    {
     "data": {
      "text/html": [
       "<div>\n",
       "<style scoped>\n",
       "    .dataframe tbody tr th:only-of-type {\n",
       "        vertical-align: middle;\n",
       "    }\n",
       "\n",
       "    .dataframe tbody tr th {\n",
       "        vertical-align: top;\n",
       "    }\n",
       "\n",
       "    .dataframe thead th {\n",
       "        text-align: right;\n",
       "    }\n",
       "</style>\n",
       "<table border=\"1\" class=\"dataframe\">\n",
       "  <thead>\n",
       "    <tr style=\"text-align: right;\">\n",
       "      <th></th>\n",
       "      <th>model</th>\n",
       "      <th>lib</th>\n",
       "      <th>algo</th>\n",
       "      <th>nrep</th>\n",
       "      <th>test0</th>\n",
       "      <th>test1</th>\n",
       "      <th>test2</th>\n",
       "      <th>test3</th>\n",
       "      <th>rtest0</th>\n",
       "      <th>rtest1</th>\n",
       "      <th>rtest2</th>\n",
       "      <th>rtest3</th>\n",
       "      <th>nspecies</th>\n",
       "      <th>ntest</th>\n",
       "      <th>total_pass</th>\n",
       "    </tr>\n",
       "  </thead>\n",
       "  <tbody>\n",
       "    <tr>\n",
       "      <th>0</th>\n",
       "      <td>001-04</td>\n",
       "      <td>Cayenne</td>\n",
       "      <td>direct</td>\n",
       "      <td>10000</td>\n",
       "      <td>0</td>\n",
       "      <td>0</td>\n",
       "      <td>0</td>\n",
       "      <td>0</td>\n",
       "      <td>0</td>\n",
       "      <td>0</td>\n",
       "      <td>0</td>\n",
       "      <td>0</td>\n",
       "      <td>1</td>\n",
       "      <td>100</td>\n",
       "      <td>100.0</td>\n",
       "    </tr>\n",
       "    <tr>\n",
       "      <th>1</th>\n",
       "      <td>001-04</td>\n",
       "      <td>Cayenne</td>\n",
       "      <td>tau_adaptive</td>\n",
       "      <td>10000</td>\n",
       "      <td>0</td>\n",
       "      <td>0</td>\n",
       "      <td>0</td>\n",
       "      <td>3</td>\n",
       "      <td>0</td>\n",
       "      <td>0</td>\n",
       "      <td>0</td>\n",
       "      <td>10</td>\n",
       "      <td>1</td>\n",
       "      <td>100</td>\n",
       "      <td>90.0</td>\n",
       "    </tr>\n",
       "    <tr>\n",
       "      <th>2</th>\n",
       "      <td>001-01</td>\n",
       "      <td>Cayenne</td>\n",
       "      <td>direct</td>\n",
       "      <td>10000</td>\n",
       "      <td>0</td>\n",
       "      <td>0</td>\n",
       "      <td>0</td>\n",
       "      <td>0</td>\n",
       "      <td>0</td>\n",
       "      <td>0</td>\n",
       "      <td>0</td>\n",
       "      <td>0</td>\n",
       "      <td>1</td>\n",
       "      <td>100</td>\n",
       "      <td>100.0</td>\n",
       "    </tr>\n",
       "    <tr>\n",
       "      <th>3</th>\n",
       "      <td>001-01</td>\n",
       "      <td>Cayenne</td>\n",
       "      <td>tau_leaping</td>\n",
       "      <td>10000</td>\n",
       "      <td>0</td>\n",
       "      <td>0</td>\n",
       "      <td>0</td>\n",
       "      <td>0</td>\n",
       "      <td>0</td>\n",
       "      <td>0</td>\n",
       "      <td>0</td>\n",
       "      <td>0</td>\n",
       "      <td>1</td>\n",
       "      <td>100</td>\n",
       "      <td>100.0</td>\n",
       "    </tr>\n",
       "    <tr>\n",
       "      <th>4</th>\n",
       "      <td>001-01</td>\n",
       "      <td>Cayenne</td>\n",
       "      <td>tau_adaptive</td>\n",
       "      <td>10000</td>\n",
       "      <td>0</td>\n",
       "      <td>0</td>\n",
       "      <td>0</td>\n",
       "      <td>0</td>\n",
       "      <td>0</td>\n",
       "      <td>0</td>\n",
       "      <td>0</td>\n",
       "      <td>2</td>\n",
       "      <td>1</td>\n",
       "      <td>100</td>\n",
       "      <td>98.0</td>\n",
       "    </tr>\n",
       "  </tbody>\n",
       "</table>\n",
       "</div>"
      ],
      "text/plain": [
       "    model      lib          algo   nrep  test0  test1  test2  test3  rtest0  \\\n",
       "0  001-04  Cayenne        direct  10000      0      0      0      0       0   \n",
       "1  001-04  Cayenne  tau_adaptive  10000      0      0      0      3       0   \n",
       "2  001-01  Cayenne        direct  10000      0      0      0      0       0   \n",
       "3  001-01  Cayenne   tau_leaping  10000      0      0      0      0       0   \n",
       "4  001-01  Cayenne  tau_adaptive  10000      0      0      0      0       0   \n",
       "\n",
       "   rtest1  rtest2  rtest3  nspecies  ntest  total_pass  \n",
       "0       0       0       0         1    100       100.0  \n",
       "1       0       0      10         1    100        90.0  \n",
       "2       0       0       0         1    100       100.0  \n",
       "3       0       0       0         1    100       100.0  \n",
       "4       0       0       2         1    100        98.0  "
      ]
     },
     "execution_count": 5,
     "metadata": {},
     "output_type": "execute_result"
    }
   ],
   "source": [
    "accuracy_results.head()"
   ]
  },
  {
   "cell_type": "markdown",
   "metadata": {
    "colab_type": "text",
    "id": "hf-up9rrIf1N"
   },
   "source": [
    "### Direct"
   ]
  },
  {
   "cell_type": "code",
   "execution_count": 6,
   "metadata": {
    "colab": {
     "base_uri": "https://localhost:8080/",
     "height": 342
    },
    "colab_type": "code",
    "id": "33G30Ja5If1N",
    "outputId": "121517be-fbc4-40a8-8a02-3704f6abd934"
   },
   "outputs": [
    {
     "data": {
      "image/png": "[encoded data removed]",
      "text/plain": [
       "<Figure size 1008x360 with 1 Axes>"
      ]
     },
     "metadata": {},
     "output_type": "display_data"
    }
   ],
   "source": [
    "plot_accuracy_barplot(accuracy_results[accuracy_results.algo == \"direct\"], hue=\"lib\")"
   ]
  },
  {
   "cell_type": "markdown",
   "metadata": {
    "colab_type": "text",
    "id": "Ybg9yuzbIf1Q"
   },
   "source": [
    "Model | Fail | Reason\n",
    "---|---|---\n",
    "001-01 | No | n/a\n",
    "001-03 | Yes, all | Even the C library says it will fail\n",
    "001-04 | Yes, BioSimulator | BioSimulator (BioSimulator-CI internal interpolation not accurate)\n",
    "001-05 | DNF, all | Tellurium is probably not doing direct\n",
    "001-11 | No | n/a (99 is okay) \n",
    "002-01 | Yes, BioSimulator | BioSimulator accuracy fails at high slope/quick change regions\n",
    "002-02 | Yes, BioSimulator | BioSimulator accuracy fails at high slope/quick change regions\n",
    "002-03 | Yes, BioSimulator | BioSimulator accuracy fails at high slope/quick change regions\n",
    "002-04 | DNF, all | Tellurium is probably not doing direct\n",
    "003-01 | Yes, Tellurium, BiosimulatorIntp | Tellurium fails even when rate expression is hardcoded as per `sbml-test-suite`. BiosimulatorIntp fails at high slope and low slope regions.\n",
    "003-02 | Yes, Tellurium, BiosimulatorIntp |  Tellurium fails even when rate expression is hardcoded as per `sbml-test-suite`. BiosimulatorIntp fails at high slope/quick change regions.\n",
    "004-01 | Yes, BiosimulatorIntp | BioSimulator accuracy fails at high slope/quick change regions\n",
    "004-02 | Yes, BiosimulatorIntp | BioSimulator accuracy fails at high slope/quick change regions\n",
    "004-03 | Yes, , BiosimulatorIntp | Fails completely because it returns an incorrect steady state."
   ]
  },
  {
   "cell_type": "markdown",
   "metadata": {
    "colab_type": "text",
    "id": "1kvGSz7FIf1R"
   },
   "source": [
    "#### Take-homes\n",
    "\n",
    "1. The direct algorithm in cayenne, BioSimulator-CI.jl and Tellurium are accurate in general.\n",
    "2. BioSimulator-CI does better than BioSimulator. What this means is that inteprolation with the cayenne's backend is better than interpolation in BioSimulator-CI's backend.  \n",
    "  1. So, even though the algorithm itself is implemented correctly, retrieving results at specified time points may require careful handling to maintain accuracy.\n",
    "3. Tellurium's output for second order reactions are inaccurate.\n",
    "\n",
    "#### Notes\n",
    "\n",
    "1. Models 001-05 and 002-04 did not finish running (DNF) in the time they were allotted. This is because molecule counts increase exponentially, making the direct algorithm take shorter and shorter time steps.\n",
    "2. All algorithms perform relatively less well for model 001-03. This has been observed elsewhere for this model (for example https://github.com/sys-bio/libStochastic/blob/446e569ea9d3d94c2df48245a80a603437e4da5e/Python/testdsmts.py#L40).\n",
    "3. We did not run GillespieSSA here since it was prohibitively slow."
   ]
  },
  {
   "cell_type": "markdown",
   "metadata": {
    "colab_type": "text",
    "id": "DMkbN--sLHGO"
   },
   "source": [
    "\n",
    "### Tau leaping"
   ]
  },
  {
   "cell_type": "code",
   "execution_count": 7,
   "metadata": {
    "colab": {
     "base_uri": "https://localhost:8080/",
     "height": 342
    },
    "colab_type": "code",
    "id": "alxCMCfTIf1S",
    "outputId": "58d5b0b6-0740-4612-85a3-f84d013045d1"
   },
   "outputs": [
    {
     "data": {
      "image/png": "[encoded data removed]",
      "text/plain": [
       "<Figure size 1008x360 with 1 Axes>"
      ]
     },
     "metadata": {},
     "output_type": "display_data"
    }
   ],
   "source": [
    "plot_accuracy_barplot(accuracy_results[accuracy_results.algo == \"tau_leaping\"], hue=\"lib\")"
   ]
  },
  {
   "cell_type": "markdown",
   "metadata": {
    "colab_type": "text",
    "id": "sAxgmcpXIf1U"
   },
   "source": [
    "Model  | Fail | Reason\n",
    "-------|---|---\n",
    "001-01 | Yes, BioSimulator | BioSimulator accuracy fails at high slope/quick change regions\n",
    "001-03 | Yes, all | Even the C library says it will fail. BioSimulator is worse.\n",
    "001-04 | Yes, BioSimulator | BioSimulator accuracy fails at high slope/quick change regions\n",
    "001-05 | Yes, BioSimulator | BioSimulator accuracy fails at high slope/quick change regions\n",
    "001-11 | Yes, BioSimulator | BioSimulator accuracy fails at high slope/quick change regions\n",
    "002-01 | Yes, Biosimulator, BiosimulatorIntp and GillespieSSA | All fail because of 0 species. \n",
    "002-02 | Yes, Biosimulator, BiosimulatorIntp and GillespieSSA | All fail because of 0 species. \n",
    "002-03 | Yes, Biosimulator, BiosimulatorIntp and GillespieSSA  | All fail because of 0 species. \n",
    "002-04 | Yes, Biosimulator, BiosimulatorIntp and GillespieSSA  | All fail because of 0 species.\n",
    "003-01 | Yes, Biosimulator, BiosimulatorIntp  | All fail because one species is 0.\n",
    "003-02 | Yes, Biosimulator, BiosimulatorIntp | All fail because one species is 0.\n",
    "004-01 | Yes, Biosimulator, BiosimulatorIntp and GillespieSSA | All fail because of 0 species. \n",
    "004-02 | Yes, Biosimulator, BiosimulatorIntp and GillespieSSA | All fail because of 0 species. \n",
    "004-03 | Yes, all | Biosimulator, BiosimulatorIntp and GillespieSSA fails because of 0 species. `cayenne` fails, likely because of high tau. BioSimulator-CI converges to the wrong mean value, but the model seems right (since it was copied and modified from 37, 38 and those converge to correct value. Strangely BioSimulator-CI SD converges)\n",
    "\n",
    ">NOTE:\n",
    ">These results use $\\mu$ and $\\sigma$ ratios as the test statistic"
   ]
  },
  {
   "cell_type": "markdown",
   "metadata": {
    "colab_type": "text",
    "id": "BSN-oTiZIf1V"
   },
   "source": [
    "#### Take-homes\n",
    "1. cayenne's tau-leaping performs pretty well except for stiff systems.\n",
    "2. Other libraries' tau-leaping failed to simulate for various cases\n",
    "  1. GillespieSSA exits the simulation when all of the initial species are 0.\n",
    "  1. BioSimualtor exits the simulation when any of the initial species is 0.\n",
    "1. BioSimulator-CI's tau_leaping is not as accurate as GillespieSSA's or cayenne's. This is for cases when none of them exit the simulation."
   ]
  },
  {
   "cell_type": "markdown",
   "metadata": {
    "colab_type": "text",
    "id": "R3iNa7WTK5EA"
   },
   "source": [
    "### Tau adaptive\n"
   ]
  },
  {
   "cell_type": "code",
   "execution_count": 8,
   "metadata": {
    "colab": {
     "base_uri": "https://localhost:8080/",
     "height": 342
    },
    "colab_type": "code",
    "id": "xGPbSuC6If1V",
    "outputId": "b86a58e9-a8ea-491a-dd5f-345a208f0169"
   },
   "outputs": [
    {
     "data": {
      "image/png": "[encoded data removed]",
      "text/plain": [
       "<Figure size 1008x360 with 1 Axes>"
      ]
     },
     "metadata": {},
     "output_type": "display_data"
    }
   ],
   "source": [
    "plot_accuracy_barplot(accuracy_results[accuracy_results.algo == \"tau_adaptive\"], hue=\"lib\")"
   ]
  },
  {
   "cell_type": "markdown",
   "metadata": {
    "colab_type": "text",
    "id": "XKPHqBfhIf1Y"
   },
   "source": [
    "Model | Fail | Reason\n",
    "---|---|---\n",
    "001-01 | Yes, Biosimulator and BiosimulatorIntp | SD (ratio) is lower than expected\n",
    "001-03 | Yes, cayenne, Biosimulator and BiosimulatorIntp | Mean and SD (ratios) are higher than expected\n",
    "001-04 | Yes, Biosimulator and BiosimulatorIntp | Mean is high and SD is lower than expected\n",
    "001-05 | Yes, Biosimulator and BiosimulatorIntp | SD is lower than expected\n",
    "001-11 | Yes, Biosimulator and BiosimulatorIntp | SD is lower than expected\n",
    "002-01 | Yes, Biosimulator, BiosimulatorIntp and GillespieSSA | Gillespie fails because of 0 species. Mean and SD ratios are randomly fluctuating\n",
    "002-02 | Yes, Biosimulator, BiosimulatorIntp and GillespieSSA | Gillespie fails because of 0 species. SD is higher than expected\n",
    "002-03 | Yes, Biosimulator, BiosimulatorIntp and GillespieSSA | Gillespie fails because of 0 species. SD is higher than expected\n",
    "002-04 | Yes, all | GillespieSSA fails because of 0 species. Deviation in mean and SD ratios.\n",
    "003-01 | Yes, cayenne, Biosimulator and BiosimulatorIntp | Deviation in mean and SD ratios.\n",
    "003-02 | Yes, Biosimulator and BiosimulatorIntp | High SD ratios.\n",
    "004-01 | Yes, all | GillespieSSA fails because of 0 species. Deviation in mean and SD ratios.\n",
    "004-02 | Yes, all | GillespieSSA fails because of 0 species. Deviation in mean and SD ratios.\n",
    "004-03 | Yes, all | GillespieSSA fails because of 0 species. Deviation in mean and SD ratios.\n",
    "\n",
    "\n",
    "#### Take-homes\n",
    "\n",
    "1. GillespieSSA's and cayenne's tau adaptive algorithms perform well, with GillespieSSA doing better usually.\n",
    "  1. GillespieSSA still fails to simulate when all of the initial species are 0.\n",
    "1. BioSimulator-CI's tau adaptive performs poorly.\n",
    "\n",
    ">NOTE:\n",
    ">These results use $\\mu$ and $\\sigma$ ratios as the test statistic"
   ]
  },
  {
   "cell_type": "markdown",
   "metadata": {
    "colab_type": "text",
    "id": "aW9nlNRnXjh8"
   },
   "source": [
    "### Overall take homes\n",
    "\n",
    "- The tau-adaptive algorithms are in general less accurate than direct and tau-leaping algorithms.\n",
    "- `GillespieSSA` performs better than `cayenne` or `BioSimulator-CI.jl` in general.\n",
    "    - But `GillespieSSA` fails to simulate in cases with zero initial species.\n",
    "\n",
    "---"
   ]
  },
  {
   "cell_type": "markdown",
   "metadata": {
    "colab_type": "text",
    "id": "9iwKl1n4Np09"
   },
   "source": [
    "## Speed\n",
    "\n",
    "To compare the speed of the different algorithms, we used a subset of models (5 of the 14) used for the accuracy comparisons. These were picked to represent the general breadth of models, with at least one coming from each of the 4 different systems (see under Models above).\n",
    "\n",
    "\n",
    "1. A given model, for a given algorithm from a library, was run 10000 times and the time taken was noted.\n",
    "1. This was repeated 7 times, to get an idea of the variance in the simulation time.\n",
    "1. All simulations were run on single cores.\n",
    "1. Speed was calculated as the inverse of the time taken in seconds for the algorithm to run to completion.\n",
    "\n",
    "Below is an example of what the results of the speed benchmarking looks like.\n"
   ]
  },
  {
   "cell_type": "code",
   "execution_count": 9,
   "metadata": {
    "colab": {
     "base_uri": "https://localhost:8080/",
     "height": 400
    },
    "colab_type": "code",
    "id": "13FiSem9bmYw",
    "outputId": "40b0c661-5794-468e-8702-8feb7af16b67"
   },
   "outputs": [
    {
     "data": {
      "text/html": [
       "<div>\n",
       "<style scoped>\n",
       "    .dataframe tbody tr th:only-of-type {\n",
       "        vertical-align: middle;\n",
       "    }\n",
       "\n",
       "    .dataframe tbody tr th {\n",
       "        vertical-align: top;\n",
       "    }\n",
       "\n",
       "    .dataframe thead th {\n",
       "        text-align: right;\n",
       "    }\n",
       "</style>\n",
       "<table border=\"1\" class=\"dataframe\">\n",
       "  <thead>\n",
       "    <tr style=\"text-align: right;\">\n",
       "      <th></th>\n",
       "      <th>command</th>\n",
       "      <th>mean</th>\n",
       "      <th>stddev</th>\n",
       "      <th>median</th>\n",
       "      <th>user</th>\n",
       "      <th>system</th>\n",
       "      <th>min</th>\n",
       "      <th>max</th>\n",
       "      <th>times</th>\n",
       "      <th>lib</th>\n",
       "      <th>algo</th>\n",
       "      <th>model</th>\n",
       "      <th>nrep</th>\n",
       "    </tr>\n",
       "  </thead>\n",
       "  <tbody>\n",
       "    <tr>\n",
       "      <th>0</th>\n",
       "      <td>python cayenne_test/make_cayenne_results.py 00...</td>\n",
       "      <td>1.853414</td>\n",
       "      <td>0.204177</td>\n",
       "      <td>1.866926</td>\n",
       "      <td>5.897341</td>\n",
       "      <td>0.357247</td>\n",
       "      <td>1.536975</td>\n",
       "      <td>2.158757</td>\n",
       "      <td>[2.15875682695, 1.75189388395, 2.03974305295, ...</td>\n",
       "      <td>Cayenne</td>\n",
       "      <td>tau_leaping</td>\n",
       "      <td>001-03</td>\n",
       "      <td>10000</td>\n",
       "    </tr>\n",
       "    <tr>\n",
       "      <th>1</th>\n",
       "      <td>Rscript GillespieSSA_test/make_gillespieSSA_re...</td>\n",
       "      <td>163.526004</td>\n",
       "      <td>2.150417</td>\n",
       "      <td>163.471765</td>\n",
       "      <td>158.476154</td>\n",
       "      <td>5.380983</td>\n",
       "      <td>160.317272</td>\n",
       "      <td>166.633805</td>\n",
       "      <td>[161.96599679168, 162.68475236768, 165.6347120...</td>\n",
       "      <td>GillespieSSA</td>\n",
       "      <td>tau_leaping</td>\n",
       "      <td>003-01</td>\n",
       "      <td>10000</td>\n",
       "    </tr>\n",
       "    <tr>\n",
       "      <th>2</th>\n",
       "      <td>julia biosimjl_test/make_biosim_results.jl 000...</td>\n",
       "      <td>6.164676</td>\n",
       "      <td>0.051317</td>\n",
       "      <td>6.162064</td>\n",
       "      <td>6.164080</td>\n",
       "      <td>0.423608</td>\n",
       "      <td>6.084711</td>\n",
       "      <td>6.243738</td>\n",
       "      <td>[6.210998203105, 6.1357683051050005, 6.1620636...</td>\n",
       "      <td>BioSimulator-CI</td>\n",
       "      <td>tau_adaptive</td>\n",
       "      <td>002-02</td>\n",
       "      <td>10000</td>\n",
       "    </tr>\n",
       "    <tr>\n",
       "      <th>3</th>\n",
       "      <td>python tellurium_test/make_tel_results.py 0002...</td>\n",
       "      <td>7.517541</td>\n",
       "      <td>0.171825</td>\n",
       "      <td>7.491469</td>\n",
       "      <td>7.577782</td>\n",
       "      <td>0.379616</td>\n",
       "      <td>7.279652</td>\n",
       "      <td>7.848030</td>\n",
       "      <td>[7.491468931035, 7.848029625035, 7.27965214803...</td>\n",
       "      <td>Tellurium</td>\n",
       "      <td>direct</td>\n",
       "      <td>002-02</td>\n",
       "      <td>10000</td>\n",
       "    </tr>\n",
       "    <tr>\n",
       "      <th>4</th>\n",
       "      <td>julia biosimjl_test/make_biosim_results.jl 000...</td>\n",
       "      <td>6.329847</td>\n",
       "      <td>0.085929</td>\n",
       "      <td>6.332444</td>\n",
       "      <td>6.202522</td>\n",
       "      <td>0.544836</td>\n",
       "      <td>6.216229</td>\n",
       "      <td>6.460468</td>\n",
       "      <td>[6.460467532435, 6.343335806435, 6.40198515743...</td>\n",
       "      <td>BioSimulator-CI</td>\n",
       "      <td>direct</td>\n",
       "      <td>004-02</td>\n",
       "      <td>10000</td>\n",
       "    </tr>\n",
       "  </tbody>\n",
       "</table>\n",
       "</div>"
      ],
      "text/plain": [
       "                                             command        mean    stddev  \\\n",
       "0  python cayenne_test/make_cayenne_results.py 00...    1.853414  0.204177   \n",
       "1  Rscript GillespieSSA_test/make_gillespieSSA_re...  163.526004  2.150417   \n",
       "2  julia biosimjl_test/make_biosim_results.jl 000...    6.164676  0.051317   \n",
       "3  python tellurium_test/make_tel_results.py 0002...    7.517541  0.171825   \n",
       "4  julia biosimjl_test/make_biosim_results.jl 000...    6.329847  0.085929   \n",
       "\n",
       "       median        user    system         min         max  \\\n",
       "0    1.866926    5.897341  0.357247    1.536975    2.158757   \n",
       "1  163.471765  158.476154  5.380983  160.317272  166.633805   \n",
       "2    6.162064    6.164080  0.423608    6.084711    6.243738   \n",
       "3    7.491469    7.577782  0.379616    7.279652    7.848030   \n",
       "4    6.332444    6.202522  0.544836    6.216229    6.460468   \n",
       "\n",
       "                                               times              lib  \\\n",
       "0  [2.15875682695, 1.75189388395, 2.03974305295, ...          Cayenne   \n",
       "1  [161.96599679168, 162.68475236768, 165.6347120...     GillespieSSA   \n",
       "2  [6.210998203105, 6.1357683051050005, 6.1620636...  BioSimulator-CI   \n",
       "3  [7.491468931035, 7.848029625035, 7.27965214803...        Tellurium   \n",
       "4  [6.460467532435, 6.343335806435, 6.40198515743...  BioSimulator-CI   \n",
       "\n",
       "           algo   model   nrep  \n",
       "0   tau_leaping  001-03  10000  \n",
       "1   tau_leaping  003-01  10000  \n",
       "2  tau_adaptive  002-02  10000  \n",
       "3        direct  002-02  10000  \n",
       "4        direct  004-02  10000  "
      ]
     },
     "execution_count": 9,
     "metadata": {},
     "output_type": "execute_result"
    }
   ],
   "source": [
    "# read benchmark data\n",
    "benchmark_results = make_benchmark_df(\"../benchmarks/\")\n",
    "benchmark_results.head()"
   ]
  },
  {
   "cell_type": "code",
   "execution_count": 10,
   "metadata": {
    "colab": {
     "base_uri": "https://localhost:8080/",
     "height": 279
    },
    "colab_type": "code",
    "id": "Mk9Ezh_QQh3Y",
    "outputId": "8764080a-d3a7-4459-9f55-b02aa2ca0cfb"
   },
   "outputs": [
    {
     "data": {
      "image/png": "[encoded data removed]",
      "text/plain": [
       "<Figure size 432x288 with 1 Axes>"
      ]
     },
     "metadata": {},
     "output_type": "display_data"
    }
   ],
   "source": [
    "plot_benchmark_barplot(benchmark_results[benchmark_results.model == \"001-01\"])"
   ]
  },
  {
   "cell_type": "markdown",
   "metadata": {
    "colab_type": "text",
    "id": "gapFeEWwRFAy"
   },
   "source": [
    "> Note : The above is  plot of the times. This is the inverse of speed."
   ]
  },
  {
   "cell_type": "markdown",
   "metadata": {
    "colab_type": "text",
    "id": "CzWwv_ZVIf09"
   },
   "source": [
    "---\n",
    "## Speed vs. accuracy comparison\n",
    "\n",
    "The speed results are best contextualized with the accuracy results, since an algorithm that fails to simulate can run quickly - but this does not tell us about its performance.\n",
    "\n",
    "Below we present accuracy on the X axis and speed on the Y axis. Desirable algorithms will occupy the top right corner of the plot. Of course, an algorithms must meet some accuracy threshold to qualify for a meaningful speed comparison."
   ]
  },
  {
   "cell_type": "code",
   "execution_count": 11,
   "metadata": {
    "colab": {},
    "colab_type": "code",
    "id": "h-4VQRVabybT"
   },
   "outputs": [],
   "source": [
    "acc_speed_results = benchmark_results.merge(accuracy_results, how=\"inner\", on = [\"lib\", \"algo\", \"model\"])"
   ]
  },
  {
   "cell_type": "code",
   "execution_count": 12,
   "metadata": {
    "colab": {
     "base_uri": "https://localhost:8080/",
     "height": 677
    },
    "colab_type": "code",
    "id": "f4GPGf3pIf0-",
    "outputId": "554c3364-e167-40ac-9302-d88590bfd2ab",
    "scrolled": true
   },
   "outputs": [
    {
     "ename": "ValueError",
     "evalue": "The palette dictionary is missing keys: {'BioSimulator-CI-CI'}",
     "output_type": "error",
     "traceback": [
      "\u001b[0;31m---------------------------------------------------------------------------\u001b[0m",
      "\u001b[0;31mValueError\u001b[0m                                Traceback (most recent call last)",
      "\u001b[0;32m<ipython-input-12-86b3e5825a42>\u001b[0m in \u001b[0;36m<module>\u001b[0;34m\u001b[0m\n\u001b[1;32m     20\u001b[0m     \u001b[0mthis_ax\u001b[0m\u001b[0;34m.\u001b[0m\u001b[0mset_title\u001b[0m\u001b[0;34m(\u001b[0m\u001b[0;34mf\"Model = {this_model}\"\u001b[0m\u001b[0;34m)\u001b[0m\u001b[0;34m\u001b[0m\u001b[0;34m\u001b[0m\u001b[0m\n\u001b[1;32m     21\u001b[0m     \u001b[0;32mif\u001b[0m \u001b[0mind\u001b[0m \u001b[0;34m==\u001b[0m \u001b[0;36m0\u001b[0m\u001b[0;34m:\u001b[0m\u001b[0;34m\u001b[0m\u001b[0;34m\u001b[0m\u001b[0m\n\u001b[0;32m---> 22\u001b[0;31m         p[ind] = sns.scatterplot(x=\"Accuracy\", y=\"Time\", hue=\"Library\", style=\"Algorithm\", \n\u001b[0m\u001b[1;32m     23\u001b[0m                         \u001b[0mdata\u001b[0m\u001b[0;34m=\u001b[0m\u001b[0macc_speed_results\u001b[0m\u001b[0;34m[\u001b[0m\u001b[0mthis_filter\u001b[0m\u001b[0;34m]\u001b[0m\u001b[0;34m,\u001b[0m \u001b[0ms\u001b[0m\u001b[0;34m=\u001b[0m\u001b[0mmarker_size\u001b[0m\u001b[0;34m,\u001b[0m\u001b[0;34m\u001b[0m\u001b[0;34m\u001b[0m\u001b[0m\n\u001b[1;32m     24\u001b[0m                         \u001b[0mhue_order\u001b[0m\u001b[0;34m=\u001b[0m\u001b[0mhue_order\u001b[0m\u001b[0;34m,\u001b[0m \u001b[0mstyle_order\u001b[0m\u001b[0;34m=\u001b[0m\u001b[0mstyle_order\u001b[0m\u001b[0;34m,\u001b[0m \u001b[0mpalette\u001b[0m\u001b[0;34m=\u001b[0m\u001b[0mLIB_PALETTE\u001b[0m\u001b[0;34m,\u001b[0m\u001b[0;34m\u001b[0m\u001b[0;34m\u001b[0m\u001b[0m\n",
      "\u001b[0;32m~/.virtualenvs/cayenne-test/lib/python3.8/site-packages/seaborn/relational.py\u001b[0m in \u001b[0;36mscatterplot\u001b[0;34m(x, y, hue, style, size, data, palette, hue_order, hue_norm, sizes, size_order, size_norm, markers, style_order, x_bins, y_bins, units, estimator, ci, n_boot, alpha, x_jitter, y_jitter, legend, ax, **kwargs)\u001b[0m\n\u001b[1;32m   1388\u001b[0m                 legend=\"brief\", ax=None, **kwargs):\n\u001b[1;32m   1389\u001b[0m \u001b[0;34m\u001b[0m\u001b[0m\n\u001b[0;32m-> 1390\u001b[0;31m     p = _ScatterPlotter(\n\u001b[0m\u001b[1;32m   1391\u001b[0m         \u001b[0mx\u001b[0m\u001b[0;34m=\u001b[0m\u001b[0mx\u001b[0m\u001b[0;34m,\u001b[0m \u001b[0my\u001b[0m\u001b[0;34m=\u001b[0m\u001b[0my\u001b[0m\u001b[0;34m,\u001b[0m \u001b[0mhue\u001b[0m\u001b[0;34m=\u001b[0m\u001b[0mhue\u001b[0m\u001b[0;34m,\u001b[0m \u001b[0mstyle\u001b[0m\u001b[0;34m=\u001b[0m\u001b[0mstyle\u001b[0m\u001b[0;34m,\u001b[0m \u001b[0msize\u001b[0m\u001b[0;34m=\u001b[0m\u001b[0msize\u001b[0m\u001b[0;34m,\u001b[0m \u001b[0mdata\u001b[0m\u001b[0;34m=\u001b[0m\u001b[0mdata\u001b[0m\u001b[0;34m,\u001b[0m\u001b[0;34m\u001b[0m\u001b[0;34m\u001b[0m\u001b[0m\n\u001b[1;32m   1392\u001b[0m         \u001b[0mpalette\u001b[0m\u001b[0;34m=\u001b[0m\u001b[0mpalette\u001b[0m\u001b[0;34m,\u001b[0m \u001b[0mhue_order\u001b[0m\u001b[0;34m=\u001b[0m\u001b[0mhue_order\u001b[0m\u001b[0;34m,\u001b[0m \u001b[0mhue_norm\u001b[0m\u001b[0;34m=\u001b[0m\u001b[0mhue_norm\u001b[0m\u001b[0;34m,\u001b[0m\u001b[0;34m\u001b[0m\u001b[0;34m\u001b[0m\u001b[0m\n",
      "\u001b[0;32m~/.virtualenvs/cayenne-test/lib/python3.8/site-packages/seaborn/relational.py\u001b[0m in \u001b[0;36m__init__\u001b[0;34m(self, x, y, hue, size, style, data, palette, hue_order, hue_norm, sizes, size_order, size_norm, dashes, markers, style_order, x_bins, y_bins, units, estimator, ci, n_boot, alpha, x_jitter, y_jitter, legend)\u001b[0m\n\u001b[1;32m    891\u001b[0m         )\n\u001b[1;32m    892\u001b[0m \u001b[0;34m\u001b[0m\u001b[0m\n\u001b[0;32m--> 893\u001b[0;31m         \u001b[0mself\u001b[0m\u001b[0;34m.\u001b[0m\u001b[0mparse_hue\u001b[0m\u001b[0;34m(\u001b[0m\u001b[0mplot_data\u001b[0m\u001b[0;34m[\u001b[0m\u001b[0;34m\"hue\"\u001b[0m\u001b[0;34m]\u001b[0m\u001b[0;34m,\u001b[0m \u001b[0mpalette\u001b[0m\u001b[0;34m,\u001b[0m \u001b[0mhue_order\u001b[0m\u001b[0;34m,\u001b[0m \u001b[0mhue_norm\u001b[0m\u001b[0;34m)\u001b[0m\u001b[0;34m\u001b[0m\u001b[0;34m\u001b[0m\u001b[0m\n\u001b[0m\u001b[1;32m    894\u001b[0m         \u001b[0mself\u001b[0m\u001b[0;34m.\u001b[0m\u001b[0mparse_size\u001b[0m\u001b[0;34m(\u001b[0m\u001b[0mplot_data\u001b[0m\u001b[0;34m[\u001b[0m\u001b[0;34m\"size\"\u001b[0m\u001b[0;34m]\u001b[0m\u001b[0;34m,\u001b[0m \u001b[0msizes\u001b[0m\u001b[0;34m,\u001b[0m \u001b[0msize_order\u001b[0m\u001b[0;34m,\u001b[0m \u001b[0msize_norm\u001b[0m\u001b[0;34m)\u001b[0m\u001b[0;34m\u001b[0m\u001b[0;34m\u001b[0m\u001b[0m\n\u001b[1;32m    895\u001b[0m         \u001b[0mself\u001b[0m\u001b[0;34m.\u001b[0m\u001b[0mparse_style\u001b[0m\u001b[0;34m(\u001b[0m\u001b[0mplot_data\u001b[0m\u001b[0;34m[\u001b[0m\u001b[0;34m\"style\"\u001b[0m\u001b[0;34m]\u001b[0m\u001b[0;34m,\u001b[0m \u001b[0mmarkers\u001b[0m\u001b[0;34m,\u001b[0m \u001b[0;32mNone\u001b[0m\u001b[0;34m,\u001b[0m \u001b[0mstyle_order\u001b[0m\u001b[0;34m)\u001b[0m\u001b[0;34m\u001b[0m\u001b[0;34m\u001b[0m\u001b[0m\n",
      "\u001b[0;32m~/.virtualenvs/cayenne-test/lib/python3.8/site-packages/seaborn/relational.py\u001b[0m in \u001b[0;36mparse_hue\u001b[0;34m(self, data, palette, order, norm)\u001b[0m\n\u001b[1;32m    367\u001b[0m             \u001b[0mcmap\u001b[0m \u001b[0;34m=\u001b[0m \u001b[0;32mNone\u001b[0m\u001b[0;34m\u001b[0m\u001b[0;34m\u001b[0m\u001b[0m\n\u001b[1;32m    368\u001b[0m             \u001b[0mlimits\u001b[0m \u001b[0;34m=\u001b[0m \u001b[0;32mNone\u001b[0m\u001b[0;34m\u001b[0m\u001b[0;34m\u001b[0m\u001b[0m\n\u001b[0;32m--> 369\u001b[0;31m             levels, palette = self.categorical_to_palette(\n\u001b[0m\u001b[1;32m    370\u001b[0m                 \u001b[0;31m# List comprehension here is required to\u001b[0m\u001b[0;34m\u001b[0m\u001b[0;34m\u001b[0m\u001b[0;34m\u001b[0m\u001b[0m\n\u001b[1;32m    371\u001b[0m                 \u001b[0;31m# overcome differences in the way pandas\u001b[0m\u001b[0;34m\u001b[0m\u001b[0;34m\u001b[0m\u001b[0;34m\u001b[0m\u001b[0m\n",
      "\u001b[0;32m~/.virtualenvs/cayenne-test/lib/python3.8/site-packages/seaborn/relational.py\u001b[0m in \u001b[0;36mcategorical_to_palette\u001b[0;34m(self, data, order, palette)\u001b[0m\n\u001b[1;32m    202\u001b[0m             \u001b[0;32mif\u001b[0m \u001b[0many\u001b[0m\u001b[0;34m(\u001b[0m\u001b[0mmissing\u001b[0m\u001b[0;34m)\u001b[0m\u001b[0;34m:\u001b[0m\u001b[0;34m\u001b[0m\u001b[0;34m\u001b[0m\u001b[0m\n\u001b[1;32m    203\u001b[0m                 \u001b[0merr\u001b[0m \u001b[0;34m=\u001b[0m \u001b[0;34m\"The palette dictionary is missing keys: {}\"\u001b[0m\u001b[0;34m\u001b[0m\u001b[0;34m\u001b[0m\u001b[0m\n\u001b[0;32m--> 204\u001b[0;31m                 \u001b[0;32mraise\u001b[0m \u001b[0mValueError\u001b[0m\u001b[0;34m(\u001b[0m\u001b[0merr\u001b[0m\u001b[0;34m.\u001b[0m\u001b[0mformat\u001b[0m\u001b[0;34m(\u001b[0m\u001b[0mmissing\u001b[0m\u001b[0;34m)\u001b[0m\u001b[0;34m)\u001b[0m\u001b[0;34m\u001b[0m\u001b[0;34m\u001b[0m\u001b[0m\n\u001b[0m\u001b[1;32m    205\u001b[0m \u001b[0;34m\u001b[0m\u001b[0m\n\u001b[1;32m    206\u001b[0m         \u001b[0;32melse\u001b[0m\u001b[0;34m:\u001b[0m\u001b[0;34m\u001b[0m\u001b[0;34m\u001b[0m\u001b[0m\n",
      "\u001b[0;31mValueError\u001b[0m: The palette dictionary is missing keys: {'BioSimulator-CI-CI'}"
     ]
    },
    {
     "data": {
      "image/png": "[encoded data removed]",
      "text/plain": [
       "<Figure size 1080x720 with 5 Axes>"
      ]
     },
     "metadata": {},
     "output_type": "display_data"
    }
   ],
   "source": [
    "acc_speed_results[\"Accuracy\"] = acc_speed_results[\"total_pass\"]\n",
    "acc_speed_results[\"Time\"] = acc_speed_results[\"mean\"]\n",
    "acc_speed_results[\"Library\"] = acc_speed_results[\"lib\"]\n",
    "acc_speed_results[\"Algorithm\"] = acc_speed_results[\"algo\"]\n",
    "\n",
    "models = sorted(set(list(acc_speed_results.model)))\n",
    "this_filter = (acc_speed_results.model == models[0])\n",
    "marker_size = 80\n",
    "fig, ax = plt.subplots(2,3,sharex=True, figsize=([15,10]))\n",
    "fig.suptitle(\"Speed vs. Accuracy\")\n",
    "fig.delaxes(ax[1][2])\n",
    "\n",
    "hue_order = [\"Cayenne\", \"BioSimulator-CI-CI\", \"GillespieSSA\", \"Tellurium\"]\n",
    "style_order = [\"direct\", \"tau_leaping\", \"tau_adaptive\"]\n",
    "\n",
    "p = [None] * len(models)\n",
    "for ind, this_model in enumerate(models):\n",
    "    this_filter = (acc_speed_results.model == this_model) & (acc_speed_results.Time < 100)\n",
    "    this_ax = ax[ind//3, ind%3]\n",
    "    this_ax.set_title(f\"Model = {this_model}\")\n",
    "    if ind == 0:\n",
    "        p[ind] = sns.scatterplot(x=\"Accuracy\", y=\"Time\", hue=\"Library\", style=\"Algorithm\", \n",
    "                        data=acc_speed_results[this_filter], s=marker_size,\n",
    "                        hue_order=hue_order, style_order=style_order, palette=LIB_PALETTE,\n",
    "                        ax = this_ax, alpha=0.5)\n",
    "    else:\n",
    "        p[ind] = sns.scatterplot(x=\"Accuracy\", y=\"Time\", hue=\"Library\", style=\"Algorithm\", \n",
    "                        data=acc_speed_results[this_filter], s=marker_size,\n",
    "                        hue_order=hue_order, style_order=style_order, palette=LIB_PALETTE,\n",
    "                        ax = this_ax, legend=False, alpha=0.5)\n",
    "    this_ax.set_ylabel(\"Time (s)\")\n",
    "\n",
    "fig.savefig(\"../assets/acc_speed_comparison_all.png\")"
   ]
  },
  {
   "cell_type": "code",
   "execution_count": null,
   "metadata": {
    "colab": {
     "base_uri": "https://localhost:8080/",
     "height": 677
    },
    "colab_type": "code",
    "id": "f4GPGf3pIf0-",
    "outputId": "554c3364-e167-40ac-9302-d88590bfd2ab",
    "scrolled": true
   },
   "outputs": [],
   "source": [
    "acc_speed_results[\"Accuracy\"] = acc_speed_results[\"total_pass\"]\n",
    "acc_speed_results[\"Time\"] = acc_speed_results[\"mean\"]\n",
    "acc_speed_results[\"Library\"] = acc_speed_results[\"lib\"]\n",
    "acc_speed_results[\"Algorithm\"] = acc_speed_results[\"algo\"]\n",
    "\n",
    "models = sorted(set(list(acc_speed_results.model)))\n",
    "this_filter = (acc_speed_results.model == models[0])\n",
    "marker_size = 80\n",
    "\n",
    "from matplotlib.gridspec import GridSpec\n",
    "\n",
    "s = GridSpec(2,3)\n",
    "\n",
    "# fig, ax = plt.subplots(2,3,sharex=True, figsize=([15,10]))\n",
    "# fig.suptitle(\"Speed vs. Accuracy\")\n",
    "# fig.delaxes(ax[1][2])\n",
    "\n",
    "hue_order = [\"cayenne\", \"BioSimulator-CI\", \"GillespieSSA\", \"Tellurium\"]\n",
    "style_order = [\"direct\", \"tau_leaping\", \"tau_adaptive\"]\n",
    "\n",
    "p = [None] * len(models)\n",
    "for ind, this_model in enumerate(models):\n",
    "    this_filter = (acc_speed_results.model == this_model)\n",
    "    bax = brokenaxes(ylims=((0, 35), (150, 300)))\n",
    "#     this_ax = ax[ind//3, ind%3]\n",
    "    bax.set_title(f\"Model = {this_model}\")\n",
    "    if ind == 0:\n",
    "#         p[ind] = sns.scatterplot(x=\"Accuracy\", y=\"Time\", hue=\"Library\", style=\"Algorithm\", \n",
    "#                         data=acc_speed_results[this_filter], s=marker_size,\n",
    "#                         hue_order=hue_order, style_order=style_order, palette=LIB_PALETTE,\n",
    "#                         ax = bax, alpha=0.5)\n",
    "        x = acc_speed_results[this_filter, \"Accuracy\"]\n",
    "        y = acc_speed_results[this_filter, \"Accuracy\"]\n",
    "        bax.plot(ac)\n",
    "    else:\n",
    "        p[ind] = sns.scatterplot(x=\"Accuracy\", y=\"Time\", hue=\"Library\", style=\"Algorithm\", \n",
    "                        data=acc_speed_results[this_filter], s=marker_size,\n",
    "                        hue_order=hue_order, style_order=style_order, palette=LIB_PALETTE,\n",
    "                        ax = bax, legend=False, alpha=0.5)\n",
    "\n",
    "# fig.savefig(\"../assets/acc_speed_comparison_all.png\")"
   ]
  },
  {
   "cell_type": "markdown",
   "metadata": {
    "colab_type": "text",
    "id": "HnvWwJ3_SUkn"
   },
   "source": [
    "## What algorithm to use?\n",
    "\n",
    "We provide a high level summary from the speed and accuracy comparisons. The table below should help a practioner in deciding between the different libraries and algorithms therein.\n",
    "\n",
    "<style type=\"text/css\">\n",
    ".tg  {border-collapse:collapse;border-spacing:0;}\n",
    ".tg td{border-style:solid;border-width:0px;font-family:Arial, sans-serif;font-size:14px;overflow:hidden;\n",
    "  padding:10px 5px;word-break:normal;}\n",
    ".tg th{border-style:solid;border-width:0px;font-family:Arial, sans-serif;font-size:14px;font-weight:normal;\n",
    "  overflow:hidden;padding:10px 5px;word-break:normal;}\n",
    ".tg .tg-0lax{text-align:left;vertical-align:top}\n",
    ".tg .tg-green{background-color:#c6e0b4;border-color:#000000;text-align:left;vertical-align:top}\n",
    ".tg .tg-orange{background-color:#ffe685;border-color:#000000;text-align:left;vertical-align:top}\n",
    ".tg .tg-73oq{border-color:#000000;text-align:left;vertical-align:top}\n",
    ".tg .tg-red{background-color:#f4b084;border-color:#000000;text-align:left;vertical-align:top}\n",
    "</style>\n",
    "<table class=\"tg\">\n",
    "<thead>\n",
    "  <tr>\n",
    "    <th class=\"tg-0lax\"></th>\n",
    "    <th class=\"tg-0lax\">direct</th>\n",
    "    <th class=\"tg-0lax\">tau_leaping</th>\n",
    "    <th class=\"tg-0lax\">tau_adaptive</th>\n",
    "  </tr>\n",
    "</thead>\n",
    "<tbody>\n",
    "  <tr>\n",
    "    <td class=\"tg-0lax\">cayenne</td>\n",
    "    <td class=\"tg-green\">Most   accurate yet</td>\n",
    "    <td class=\"tg-green\">Very fast but may need manual tuning</td>\n",
    "    <td class=\"tg-orange\">Less   accurate than GillespieSSA's version</td>\n",
    "  </tr>\n",
    "  <tr>\n",
    "    <td class=\"tg-0lax\">Tellurium</td>\n",
    "    <td class=\"tg-orange\">Inaccurate   for 2nd order</td>\n",
    "    <td class=\"tg-73oq\">N/A</td>\n",
    "    <td class=\"tg-73oq\">N/A</td>\n",
    "  </tr>\n",
    "  <tr>\n",
    "    <td class=\"tg-0lax\">GillespieSSA</td>\n",
    "    <td class=\"tg-orange\">Accurate but very slow</td>\n",
    "    <td class=\"tg-red\">Inaccurate   for initial zero counts</td>\n",
    "    <td class=\"tg-red\">Inaccurate   for initial zero counts</td>\n",
    "  </tr>\n",
    "  <tr>\n",
    "    <td class=\"tg-0lax\">BioSimulator.jl</td>\n",
    "    <td class=\"tg-orange\">Inaccurate   interpolation</td>\n",
    "    <td class=\"tg-red\">Inaccurate   for initial zero counts</td>\n",
    "    <td class=\"tg-red\">Inaccurate   for initial zero counts</td>\n",
    "  </tr>\n",
    "</tbody>\n",
    "</table>"
   ]
  },
  {
   "cell_type": "code",
   "execution_count": null,
   "metadata": {
    "colab": {},
    "colab_type": "code",
    "id": "6sNBZVFRIf1A"
   },
   "outputs": [],
   "source": [
    "this_filter = (acc_speed_results.model == \"001-01\")\n",
    "p[ind] = sns.scatterplot(x=\"Accuracy\", y=\"Speed\", hue=\"Library\", style=\"Algorithm\", \n",
    "                        data=acc_speed_results[this_filter], s=marker_size,\n",
    "                        hue_order=hue_order, style_order=style_order, palette=LIB_PALETTE,\n",
    "                        alpha=0.5)\n",
    "plt.xlim(-5, 105)\n",
    "plt.savefig(\"../assets/acc_speed_comparison_example.png\")\n",
    "plt.close()"
   ]
  }
 ],
 "metadata": {
  "colab": {
   "collapsed_sections": [],
   "name": "Analysis.ipynb",
   "provenance": [],
   "toc_visible": true
  },
  "kernelspec": {
   "display_name": "Python 3",
   "language": "python",
   "name": "python3"
  },
  "language_info": {
   "codemirror_mode": {
    "name": "ipython",
    "version": 3
   },
   "file_extension": ".py",
   "mimetype": "text/x-python",
   "name": "python",
   "nbconvert_exporter": "python",
   "pygments_lexer": "ipython3",
   "version": "3.8.3"
  }
 },
 "nbformat": 4,
 "nbformat_minor": 1
}
