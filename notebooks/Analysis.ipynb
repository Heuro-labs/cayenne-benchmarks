{
 "cells": [
  {
   "cell_type": "markdown",
   "metadata": {},
   "source": [
    "# Analysis of accuracy and speed of stochastic simulation libraries"
   ]
  },
  {
   "cell_type": "code",
   "execution_count": 1,
   "metadata": {},
   "outputs": [],
   "source": [
    "# imports\n",
    "import numpy as np\n",
    "import pandas as pd\n",
    "import seaborn as sns\n",
    "import matplotlib.pyplot as plt\n",
    "import json\n",
    "import pathlib\n",
    "\n",
    "sns.set_style(\"whitegrid\")"
   ]
  },
  {
   "cell_type": "markdown",
   "metadata": {},
   "source": [
    "---\n",
    "## Functions"
   ]
  },
  {
   "cell_type": "code",
   "execution_count": 2,
   "metadata": {},
   "outputs": [],
   "source": [
    "def make_accuracy_df(filename: str, use_ratio_for_approx=True):\n",
    "    \"\"\" Compile all accuracy results into a pandas dataframe \"\"\"\n",
    "    full_algos = [\"direct\"]\n",
    "    approx_algos = [\"tau_leaping\", \"tau_adaptive\"]\n",
    "    df  = pd.read_csv(filename, dtype={\"model\":str})\n",
    "    df.loc[:, \"nspecies\"] = 1\n",
    "    df.loc[df.model.isin([\"00030\", \"00031\"]), \"nspecies\"] = 2\n",
    "    df.loc[:, \"ntest\"] = df.nspecies * 100 # number of tests\n",
    "    # Number passing should be ntest\n",
    "    full_inds = df.algo.isin(full_algos)\n",
    "    approx_inds = df.algo.isin(approx_algos)\n",
    "    if use_ratio_for_approx:\n",
    "        df.loc[full_inds, \"total_pass\"] = (df[full_inds].ntest - \n",
    "                                           (df.loc[full_inds, \"test0\"] + \n",
    "                                            df.loc[full_inds, \"test1\"] + \n",
    "                                            df.loc[full_inds, \"test2\"] + \n",
    "                                            df.loc[full_inds, \"test3\"]))/df[full_inds].ntest * 100\n",
    "\n",
    "        df.loc[approx_inds, \"total_pass\"] = (df[approx_inds].ntest - \n",
    "                                           (df.loc[approx_inds, \"rtest0\"] + \n",
    "                                            df.loc[approx_inds, \"rtest1\"] + \n",
    "                                            df.loc[approx_inds, \"rtest2\"] + \n",
    "                                            df.loc[approx_inds, \"rtest3\"]))/df[approx_inds].ntest * 100\n",
    "    else:\n",
    "        df.loc[:,\"total_pass\"] = (df.ntest - (df[\"test0\"] + \n",
    "                                              df[\"test1\"] + \n",
    "                                              df[\"test2\"] + \n",
    "                                              df[\"test3\"]))/df.ntest * 100\n",
    "    # If test0 is -1 because test didn't ocmplete, then they should be labeled as such.\n",
    "    df.loc[df[\"total_pass\"] > df.ntest, \"total_pass\"] = -0.1\n",
    "    return df"
   ]
  },
  {
   "cell_type": "code",
   "execution_count": 3,
   "metadata": {},
   "outputs": [],
   "source": [
    "def make_benchmark_df(path):\n",
    "    \"\"\" Compile all benchmark results into a pandas dataframe \"\"\"\n",
    "    files = list(pathlib.Path(path).glob(\"*.json\"))\n",
    "    results = []\n",
    "    for this_file in files:\n",
    "        with open(this_file) as fid:\n",
    "            data_dict = json.load(fid)\n",
    "            lib, algo, model, nreps = this_file.stem.split(\"-\")\n",
    "            this_result = data_dict[\"results\"][0]\n",
    "            this_result[\"lib\"] = lib\n",
    "            this_result[\"algo\"] = algo\n",
    "            this_result[\"model\"] = model\n",
    "            this_result[\"nrep\"] = int(nreps)\n",
    "            results.append(this_result)\n",
    "    df = pd.DataFrame(results)\n",
    "    df = df[df.nrep == 10000]\n",
    "    return df"
   ]
  },
  {
   "cell_type": "code",
   "execution_count": 35,
   "metadata": {},
   "outputs": [],
   "source": [
    "LIB_PALETTE = {\"pyssa\":current_palette[1], \"BioSimulator\":current_palette[0],\n",
    "               \"BioSimulatorIntp\":current_palette[2], \"GillespieSSA\":current_palette[3],\n",
    "               \"Tellurium\":current_palette[4]}\n",
    "ALGO_PALETTE = {\"direct\":current_palette[1], \"tau_leaping\":current_palette[0],\n",
    "                       \"tau_adaptive\":current_palette[2]}\n",
    "\n",
    "def plot_accuracy_barplot(df, hue=\"algo\"):\n",
    "    \"\"\" Plot a barplot of total success for each test in the df \"\"\"\n",
    "    plt.figure(figsize=(14,5))\n",
    "    if hue == \"lib\":\n",
    "        current_palette = sns.color_palette(\"Set1\", n_colors=5)\n",
    "        libs = set(df[\"lib\"])\n",
    "        new_palette = {key: value for key, value in LIB_PALETTE.items() if key in libs}\n",
    "        g = sns.barplot(x=\"model\", y=\"total_pass\", hue=hue, data=df, palette=new_palette,\n",
    "                       hue_order=reversed(sorted(new_palette.keys())))\n",
    "    elif hue == \"algo\":\n",
    "        current_palette = sns.color_palette(\"Set1\", n_colors=3)\n",
    "        algos = set(df[\"algo\"])\n",
    "        new_palette = {key: value for key, value in ALGO_PALETTE.items() if key in algos}\n",
    "        g = sns.barplot(x=\"model\", y=\"total_pass\", hue=hue, data=df, palette=new_palette,\n",
    "                       hue_order=reversed(sorted(new_palette.keys())))\n",
    "    else:\n",
    "        g = sns.barplot(x=\"model\", y=\"total_pass\", hue=hue, data=df)\n",
    "    two_sp_models = [\"00030\", \"00031\"]\n",
    "    for p in g.patches:\n",
    "        if np.isnan(p.get_height()):\n",
    "            continue\n",
    "        if p.get_height() < 0:\n",
    "            color = \"blue\"\n",
    "            height=\"dnf\"\n",
    "        else:\n",
    "            height = int(p.get_height())\n",
    "            if height == 100:\n",
    "                color = \"green\"\n",
    "            else:\n",
    "                color = \"red\"\n",
    "        g.annotate(f\"{height}\", (p.get_x() + p.get_width() / 2., p.get_height()),\n",
    "        ha='center', va='center', fontsize=8, color=color, xytext=(0, 10),\n",
    "        textcoords='offset points')\n",
    "    plt.legend(loc='upper center', bbox_to_anchor=(0.5, 1.05), ncol=3, fancybox=True, shadow=True)\n",
    "    plt.ylabel(\"Percentage of total pass\")\n",
    "    plt.ylim(-5,120)"
   ]
  },
  {
   "cell_type": "code",
   "execution_count": 5,
   "metadata": {},
   "outputs": [],
   "source": [
    "def plot_benchmark_barplot(df):\n",
    "    \"\"\" Plot a barplot of time taken for each simulation in the df \"\"\"\n",
    "    times = df.explode(\"times\")\n",
    "    sns.barplot(x=\"model\", y=\"times\", hue=\"lib\", data=times)"
   ]
  },
  {
   "cell_type": "markdown",
   "metadata": {},
   "source": [
    "---\n",
    "## Models\n",
    "\n",
    "To compare the accuracies of the algorithms, we used a subset of the models recommended in the [SBML test suite's stochastic component](https://github.com/sbmlteam/sbml-test-suite/blob/master/cases/stochastic/DSMTS-userguide-31v2.pdf). They consist of 4 systems with different parameter combinations, resulting in a total of 14 models or 14 system-parameter combinations. The systems and parameter combinations are outlined below."
   ]
  },
  {
   "cell_type": "markdown",
   "metadata": {},
   "source": [
    "### System 1: Birth-death process\n",
    "\n",
    "This model involves one species $\\mathbf{X}$ and consists of the following reactions:\n",
    "$$\\textit{birth: } \\mathbf{X} \\xrightarrow{\\lambda} 2\\mathbf{X} $$\n",
    "$$\\textit{death: } \\mathbf{X} \\xrightarrow{\\mu} \\varnothing $$\n",
    "\n",
    "#### Models\n",
    "\n",
    "| Model ID | $X[0]$ | $\\lambda$ | $\\mu$ |\n",
    "|:--------:|:------:|:---------:|-------|\n",
    "|   00001  | 100    |    0.1    | 0.11  |\n",
    "|   00003  | 100    |    1.0    | 1.1   |\n",
    "|   00004  | 10     |    0.1    | 0.11  |\n",
    "|   00005  | 10000  |    0.1    | 0.11  |\n",
    "|   00011  | 100    |    0.0    | 0.055 |"
   ]
  },
  {
   "cell_type": "markdown",
   "metadata": {},
   "source": [
    "### System 2: Immigration-death process\n",
    "\n",
    "This model involves one species $\\mathbf{X}$ and consists of the following reactions:\n",
    "$$ \\textit{immigration: } \\varnothing \\xrightarrow{\\alpha} \\mathbf{X} $$\n",
    "$$ \\textit{death: } \\mathbf{X} \\xrightarrow{\\mu} \\varnothing $$\n",
    "\n",
    "#### Models\n",
    "\n",
    "| Model ID |$$X[0]$$| $\\alpha$ | $\\mu$ |\n",
    "|:--------:|:------:|:--------:|-------|\n",
    "|   00020  | 0.0    |    1.0   | 0.1   |\n",
    "|   00021  | 0.0    |   10.0   | 0.1   |\n",
    "|   00022  | 0.0    |    5.0   | 0.1   |\n",
    "|   00023  | 0.0    |   1000   | 0.1   |"
   ]
  },
  {
   "cell_type": "markdown",
   "metadata": {},
   "source": [
    "### System 3: Dimerization\n",
    "\n",
    "This model involves two species $\\mathbf{X}$, $\\mathbf{X_2}$ and consists of the following reactions:\n",
    "\n",
    "$$ \\textit{dimerization: } 2\\mathbf{X} \\xrightarrow{k_1} \\mathbf{X_2} $$\n",
    "$$ \\textit{dissociation: } \\mathbf{X_2} \\xrightarrow{k_2} 2\\mathbf{X} $$\n",
    "\n",
    ">NOTE:\n",
    ">The dimerization reaction is second order\n",
    "\n",
    "#### Models\n",
    "\n",
    "| Model ID |$$X[0]$$|$$X_2[0]$$| $k_1$  | $k_2$ |\n",
    "|:--------:|:------:|:--------:|--------|-------|\n",
    "|   00030  | 100    |     0    | 0.001  | 0.01  |\n",
    "|   00031  | 1000   |     0    | 0.0002 | 0.004 |"
   ]
  },
  {
   "cell_type": "markdown",
   "metadata": {},
   "source": [
    "### System 4: Batch immigration-death process\n",
    "\n",
    "This model involves one species $\\mathbf{X}$ and consists of the following reactions:\n",
    "$$ \\textit{immigration: } \\varnothing \\xrightarrow{\\alpha} K\\mathbf{X} $$\n",
    "$$ \\textit{death: } \\mathbf{X} \\xrightarrow{\\mu} \\varnothing $$\n",
    "\n",
    "#### Models\n",
    "\n",
    "| Model ID | $$X[0]$$ | $K$ | $\\alpha$ | $\\mu$ |\n",
    "|:--------:|:--------:|:---:|:--------:|-------|\n",
    "|   00037  |    0.0   |  5  |    1.0   | 0.2   |\n",
    "|   00038  |    0.0   |  10 |    1.0   | 0.4   |\n",
    "|   00039  |    0.0   | 100 |    1.0   | 4.0   |"
   ]
  },
  {
   "cell_type": "markdown",
   "metadata": {},
   "source": [
    "---\n",
    "## Read data"
   ]
  },
  {
   "cell_type": "code",
   "execution_count": 15,
   "metadata": {},
   "outputs": [],
   "source": [
    "# read accuracy data\n",
    "pyssa_results = make_accuracy_df(\"../results/pyssa_results.csv\")\n",
    "tellurium_results = make_accuracy_df(\"../results/Tellurium_results.csv\")\n",
    "biosimulator_results = make_accuracy_df(\"../results/BioSimulator_results.csv\")\n",
    "biosimulatorintp_results = make_accuracy_df(\"../results/BioSimulatorIntp_results.csv\")\n",
    "gillespiessa_results = make_accuracy_df(\"../results/GillespieSSA_results.csv\")\n",
    "accuracy_results = pd.concat([pyssa_results, tellurium_results, biosimulator_results, biosimulatorintp_results, \n",
    "                     gillespiessa_results])\n",
    "# read benchmark data\n",
    "benchmark_results = make_benchmark_df(\"../benchmarks/\")"
   ]
  },
  {
   "cell_type": "code",
   "execution_count": 16,
   "metadata": {},
   "outputs": [
    {
     "data": {
      "text/html": [
       "<div>\n",
       "<style scoped>\n",
       "    .dataframe tbody tr th:only-of-type {\n",
       "        vertical-align: middle;\n",
       "    }\n",
       "\n",
       "    .dataframe tbody tr th {\n",
       "        vertical-align: top;\n",
       "    }\n",
       "\n",
       "    .dataframe thead th {\n",
       "        text-align: right;\n",
       "    }\n",
       "</style>\n",
       "<table border=\"1\" class=\"dataframe\">\n",
       "  <thead>\n",
       "    <tr style=\"text-align: right;\">\n",
       "      <th></th>\n",
       "      <th>model</th>\n",
       "      <th>lib</th>\n",
       "      <th>algo</th>\n",
       "      <th>nrep</th>\n",
       "      <th>test0</th>\n",
       "      <th>test1</th>\n",
       "      <th>test2</th>\n",
       "      <th>test3</th>\n",
       "      <th>rtest0</th>\n",
       "      <th>rtest1</th>\n",
       "      <th>rtest2</th>\n",
       "      <th>rtest3</th>\n",
       "      <th>nspecies</th>\n",
       "      <th>ntest</th>\n",
       "      <th>total_pass</th>\n",
       "    </tr>\n",
       "  </thead>\n",
       "  <tbody>\n",
       "    <tr>\n",
       "      <th>0</th>\n",
       "      <td>00004</td>\n",
       "      <td>pyssa</td>\n",
       "      <td>direct</td>\n",
       "      <td>10000</td>\n",
       "      <td>0</td>\n",
       "      <td>0</td>\n",
       "      <td>0</td>\n",
       "      <td>0</td>\n",
       "      <td>0</td>\n",
       "      <td>0</td>\n",
       "      <td>0</td>\n",
       "      <td>0</td>\n",
       "      <td>1</td>\n",
       "      <td>100</td>\n",
       "      <td>100.0</td>\n",
       "    </tr>\n",
       "    <tr>\n",
       "      <th>1</th>\n",
       "      <td>00004</td>\n",
       "      <td>pyssa</td>\n",
       "      <td>tau_adaptive</td>\n",
       "      <td>10000</td>\n",
       "      <td>0</td>\n",
       "      <td>0</td>\n",
       "      <td>0</td>\n",
       "      <td>3</td>\n",
       "      <td>0</td>\n",
       "      <td>0</td>\n",
       "      <td>0</td>\n",
       "      <td>10</td>\n",
       "      <td>1</td>\n",
       "      <td>100</td>\n",
       "      <td>90.0</td>\n",
       "    </tr>\n",
       "    <tr>\n",
       "      <th>2</th>\n",
       "      <td>00001</td>\n",
       "      <td>pyssa</td>\n",
       "      <td>direct</td>\n",
       "      <td>10000</td>\n",
       "      <td>0</td>\n",
       "      <td>0</td>\n",
       "      <td>0</td>\n",
       "      <td>0</td>\n",
       "      <td>0</td>\n",
       "      <td>0</td>\n",
       "      <td>0</td>\n",
       "      <td>0</td>\n",
       "      <td>1</td>\n",
       "      <td>100</td>\n",
       "      <td>100.0</td>\n",
       "    </tr>\n",
       "    <tr>\n",
       "      <th>3</th>\n",
       "      <td>00001</td>\n",
       "      <td>pyssa</td>\n",
       "      <td>tau_leaping</td>\n",
       "      <td>10000</td>\n",
       "      <td>0</td>\n",
       "      <td>0</td>\n",
       "      <td>0</td>\n",
       "      <td>0</td>\n",
       "      <td>0</td>\n",
       "      <td>0</td>\n",
       "      <td>0</td>\n",
       "      <td>0</td>\n",
       "      <td>1</td>\n",
       "      <td>100</td>\n",
       "      <td>100.0</td>\n",
       "    </tr>\n",
       "    <tr>\n",
       "      <th>4</th>\n",
       "      <td>00001</td>\n",
       "      <td>pyssa</td>\n",
       "      <td>tau_adaptive</td>\n",
       "      <td>10000</td>\n",
       "      <td>0</td>\n",
       "      <td>0</td>\n",
       "      <td>0</td>\n",
       "      <td>0</td>\n",
       "      <td>0</td>\n",
       "      <td>0</td>\n",
       "      <td>0</td>\n",
       "      <td>2</td>\n",
       "      <td>1</td>\n",
       "      <td>100</td>\n",
       "      <td>98.0</td>\n",
       "    </tr>\n",
       "  </tbody>\n",
       "</table>\n",
       "</div>"
      ],
      "text/plain": [
       "   model    lib          algo   nrep  test0  test1  test2  test3  rtest0  \\\n",
       "0  00004  pyssa        direct  10000      0      0      0      0       0   \n",
       "1  00004  pyssa  tau_adaptive  10000      0      0      0      3       0   \n",
       "2  00001  pyssa        direct  10000      0      0      0      0       0   \n",
       "3  00001  pyssa   tau_leaping  10000      0      0      0      0       0   \n",
       "4  00001  pyssa  tau_adaptive  10000      0      0      0      0       0   \n",
       "\n",
       "   rtest1  rtest2  rtest3  nspecies  ntest  total_pass  \n",
       "0       0       0       0         1    100       100.0  \n",
       "1       0       0      10         1    100        90.0  \n",
       "2       0       0       0         1    100       100.0  \n",
       "3       0       0       0         1    100       100.0  \n",
       "4       0       0       2         1    100        98.0  "
      ]
     },
     "execution_count": 16,
     "metadata": {},
     "output_type": "execute_result"
    }
   ],
   "source": [
    "accuracy_results.head()"
   ]
  },
  {
   "cell_type": "code",
   "execution_count": 17,
   "metadata": {},
   "outputs": [
    {
     "data": {
      "text/html": [
       "<div>\n",
       "<style scoped>\n",
       "    .dataframe tbody tr th:only-of-type {\n",
       "        vertical-align: middle;\n",
       "    }\n",
       "\n",
       "    .dataframe tbody tr th {\n",
       "        vertical-align: top;\n",
       "    }\n",
       "\n",
       "    .dataframe thead th {\n",
       "        text-align: right;\n",
       "    }\n",
       "</style>\n",
       "<table border=\"1\" class=\"dataframe\">\n",
       "  <thead>\n",
       "    <tr style=\"text-align: right;\">\n",
       "      <th></th>\n",
       "      <th>command</th>\n",
       "      <th>mean</th>\n",
       "      <th>stddev</th>\n",
       "      <th>median</th>\n",
       "      <th>user</th>\n",
       "      <th>system</th>\n",
       "      <th>min</th>\n",
       "      <th>max</th>\n",
       "      <th>times</th>\n",
       "      <th>lib</th>\n",
       "      <th>algo</th>\n",
       "      <th>model</th>\n",
       "      <th>nrep</th>\n",
       "    </tr>\n",
       "  </thead>\n",
       "  <tbody>\n",
       "    <tr>\n",
       "      <th>0</th>\n",
       "      <td>python pyssa_test/make_pyssa_results.py 00003 ...</td>\n",
       "      <td>22.109373</td>\n",
       "      <td>1.662900</td>\n",
       "      <td>22.456144</td>\n",
       "      <td>82.576359</td>\n",
       "      <td>1.941489</td>\n",
       "      <td>19.578285</td>\n",
       "      <td>24.217990</td>\n",
       "      <td>[24.217990215420002, 22.456144158420003, 20.43...</td>\n",
       "      <td>pyssa</td>\n",
       "      <td>tau_adaptive</td>\n",
       "      <td>00003</td>\n",
       "      <td>10000</td>\n",
       "    </tr>\n",
       "    <tr>\n",
       "      <th>1</th>\n",
       "      <td>Rscript GillespieSSA_test/make_gillespieSSA_re...</td>\n",
       "      <td>163.526004</td>\n",
       "      <td>2.150417</td>\n",
       "      <td>163.471765</td>\n",
       "      <td>158.476154</td>\n",
       "      <td>5.380983</td>\n",
       "      <td>160.317272</td>\n",
       "      <td>166.633805</td>\n",
       "      <td>[161.96599679168, 162.68475236768, 165.6347120...</td>\n",
       "      <td>GillespieSSA</td>\n",
       "      <td>tau_leaping</td>\n",
       "      <td>00030</td>\n",
       "      <td>10000</td>\n",
       "    </tr>\n",
       "    <tr>\n",
       "      <th>2</th>\n",
       "      <td>julia biosimjl_test/make_biosim_results.jl 000...</td>\n",
       "      <td>6.164676</td>\n",
       "      <td>0.051317</td>\n",
       "      <td>6.162064</td>\n",
       "      <td>6.164080</td>\n",
       "      <td>0.423608</td>\n",
       "      <td>6.084711</td>\n",
       "      <td>6.243738</td>\n",
       "      <td>[6.210998203105, 6.1357683051050005, 6.1620636...</td>\n",
       "      <td>BioSimulator</td>\n",
       "      <td>tau_adaptive</td>\n",
       "      <td>00021</td>\n",
       "      <td>10000</td>\n",
       "    </tr>\n",
       "    <tr>\n",
       "      <th>3</th>\n",
       "      <td>python tellurium_test/make_tel_results.py 0002...</td>\n",
       "      <td>7.517541</td>\n",
       "      <td>0.171825</td>\n",
       "      <td>7.491469</td>\n",
       "      <td>7.577782</td>\n",
       "      <td>0.379616</td>\n",
       "      <td>7.279652</td>\n",
       "      <td>7.848030</td>\n",
       "      <td>[7.491468931035, 7.848029625035, 7.27965214803...</td>\n",
       "      <td>Tellurium</td>\n",
       "      <td>direct</td>\n",
       "      <td>00021</td>\n",
       "      <td>10000</td>\n",
       "    </tr>\n",
       "    <tr>\n",
       "      <th>4</th>\n",
       "      <td>python pyssa_test/make_pyssa_results.py 00001 ...</td>\n",
       "      <td>6.367574</td>\n",
       "      <td>0.807097</td>\n",
       "      <td>6.063183</td>\n",
       "      <td>23.028373</td>\n",
       "      <td>0.566946</td>\n",
       "      <td>5.751014</td>\n",
       "      <td>7.660804</td>\n",
       "      <td>[7.37642449603, 6.06318282003, 6.17712087803, ...</td>\n",
       "      <td>pyssa</td>\n",
       "      <td>direct</td>\n",
       "      <td>00001</td>\n",
       "      <td>10000</td>\n",
       "    </tr>\n",
       "  </tbody>\n",
       "</table>\n",
       "</div>"
      ],
      "text/plain": [
       "                                             command        mean    stddev  \\\n",
       "0  python pyssa_test/make_pyssa_results.py 00003 ...   22.109373  1.662900   \n",
       "1  Rscript GillespieSSA_test/make_gillespieSSA_re...  163.526004  2.150417   \n",
       "2  julia biosimjl_test/make_biosim_results.jl 000...    6.164676  0.051317   \n",
       "3  python tellurium_test/make_tel_results.py 0002...    7.517541  0.171825   \n",
       "4  python pyssa_test/make_pyssa_results.py 00001 ...    6.367574  0.807097   \n",
       "\n",
       "       median        user    system         min         max  \\\n",
       "0   22.456144   82.576359  1.941489   19.578285   24.217990   \n",
       "1  163.471765  158.476154  5.380983  160.317272  166.633805   \n",
       "2    6.162064    6.164080  0.423608    6.084711    6.243738   \n",
       "3    7.491469    7.577782  0.379616    7.279652    7.848030   \n",
       "4    6.063183   23.028373  0.566946    5.751014    7.660804   \n",
       "\n",
       "                                               times           lib  \\\n",
       "0  [24.217990215420002, 22.456144158420003, 20.43...         pyssa   \n",
       "1  [161.96599679168, 162.68475236768, 165.6347120...  GillespieSSA   \n",
       "2  [6.210998203105, 6.1357683051050005, 6.1620636...  BioSimulator   \n",
       "3  [7.491468931035, 7.848029625035, 7.27965214803...     Tellurium   \n",
       "4  [7.37642449603, 6.06318282003, 6.17712087803, ...         pyssa   \n",
       "\n",
       "           algo  model   nrep  \n",
       "0  tau_adaptive  00003  10000  \n",
       "1   tau_leaping  00030  10000  \n",
       "2  tau_adaptive  00021  10000  \n",
       "3        direct  00021  10000  \n",
       "4        direct  00001  10000  "
      ]
     },
     "execution_count": 17,
     "metadata": {},
     "output_type": "execute_result"
    }
   ],
   "source": [
    "benchmark_results.head()"
   ]
  },
  {
   "cell_type": "code",
   "execution_count": 18,
   "metadata": {},
   "outputs": [
    {
     "data": {
      "text/html": [
       "<div>\n",
       "<style scoped>\n",
       "    .dataframe tbody tr th:only-of-type {\n",
       "        vertical-align: middle;\n",
       "    }\n",
       "\n",
       "    .dataframe tbody tr th {\n",
       "        vertical-align: top;\n",
       "    }\n",
       "\n",
       "    .dataframe thead th {\n",
       "        text-align: right;\n",
       "    }\n",
       "</style>\n",
       "<table border=\"1\" class=\"dataframe\">\n",
       "  <thead>\n",
       "    <tr style=\"text-align: right;\">\n",
       "      <th></th>\n",
       "      <th>command</th>\n",
       "      <th>mean</th>\n",
       "      <th>stddev</th>\n",
       "      <th>median</th>\n",
       "      <th>user</th>\n",
       "      <th>system</th>\n",
       "      <th>min</th>\n",
       "      <th>max</th>\n",
       "      <th>times</th>\n",
       "      <th>lib</th>\n",
       "      <th>...</th>\n",
       "      <th>test1</th>\n",
       "      <th>test2</th>\n",
       "      <th>test3</th>\n",
       "      <th>rtest0</th>\n",
       "      <th>rtest1</th>\n",
       "      <th>rtest2</th>\n",
       "      <th>rtest3</th>\n",
       "      <th>nspecies</th>\n",
       "      <th>ntest</th>\n",
       "      <th>total_pass</th>\n",
       "    </tr>\n",
       "  </thead>\n",
       "  <tbody>\n",
       "    <tr>\n",
       "      <th>0</th>\n",
       "      <td>python pyssa_test/make_pyssa_results.py 00003 ...</td>\n",
       "      <td>22.109373</td>\n",
       "      <td>1.662900</td>\n",
       "      <td>22.456144</td>\n",
       "      <td>82.576359</td>\n",
       "      <td>1.941489</td>\n",
       "      <td>19.578285</td>\n",
       "      <td>24.217990</td>\n",
       "      <td>[24.217990215420002, 22.456144158420003, 20.43...</td>\n",
       "      <td>pyssa</td>\n",
       "      <td>...</td>\n",
       "      <td>3</td>\n",
       "      <td>1</td>\n",
       "      <td>5</td>\n",
       "      <td>0</td>\n",
       "      <td>27</td>\n",
       "      <td>3</td>\n",
       "      <td>12</td>\n",
       "      <td>1</td>\n",
       "      <td>100</td>\n",
       "      <td>58.0</td>\n",
       "    </tr>\n",
       "    <tr>\n",
       "      <th>1</th>\n",
       "      <td>Rscript GillespieSSA_test/make_gillespieSSA_re...</td>\n",
       "      <td>163.526004</td>\n",
       "      <td>2.150417</td>\n",
       "      <td>163.471765</td>\n",
       "      <td>158.476154</td>\n",
       "      <td>5.380983</td>\n",
       "      <td>160.317272</td>\n",
       "      <td>166.633805</td>\n",
       "      <td>[161.96599679168, 162.68475236768, 165.6347120...</td>\n",
       "      <td>GillespieSSA</td>\n",
       "      <td>...</td>\n",
       "      <td>19</td>\n",
       "      <td>0</td>\n",
       "      <td>0</td>\n",
       "      <td>0</td>\n",
       "      <td>0</td>\n",
       "      <td>0</td>\n",
       "      <td>4</td>\n",
       "      <td>2</td>\n",
       "      <td>200</td>\n",
       "      <td>98.0</td>\n",
       "    </tr>\n",
       "    <tr>\n",
       "      <th>2</th>\n",
       "      <td>julia biosimjl_test/make_biosim_results.jl 000...</td>\n",
       "      <td>6.164676</td>\n",
       "      <td>0.051317</td>\n",
       "      <td>6.162064</td>\n",
       "      <td>6.164080</td>\n",
       "      <td>0.423608</td>\n",
       "      <td>6.084711</td>\n",
       "      <td>6.243738</td>\n",
       "      <td>[6.210998203105, 6.1357683051050005, 6.1620636...</td>\n",
       "      <td>BioSimulator</td>\n",
       "      <td>...</td>\n",
       "      <td>1</td>\n",
       "      <td>1</td>\n",
       "      <td>28</td>\n",
       "      <td>0</td>\n",
       "      <td>1</td>\n",
       "      <td>1</td>\n",
       "      <td>30</td>\n",
       "      <td>1</td>\n",
       "      <td>100</td>\n",
       "      <td>68.0</td>\n",
       "    </tr>\n",
       "    <tr>\n",
       "      <th>3</th>\n",
       "      <td>python tellurium_test/make_tel_results.py 0002...</td>\n",
       "      <td>7.517541</td>\n",
       "      <td>0.171825</td>\n",
       "      <td>7.491469</td>\n",
       "      <td>7.577782</td>\n",
       "      <td>0.379616</td>\n",
       "      <td>7.279652</td>\n",
       "      <td>7.848030</td>\n",
       "      <td>[7.491468931035, 7.848029625035, 7.27965214803...</td>\n",
       "      <td>Tellurium</td>\n",
       "      <td>...</td>\n",
       "      <td>0</td>\n",
       "      <td>0</td>\n",
       "      <td>0</td>\n",
       "      <td>0</td>\n",
       "      <td>0</td>\n",
       "      <td>0</td>\n",
       "      <td>0</td>\n",
       "      <td>1</td>\n",
       "      <td>100</td>\n",
       "      <td>100.0</td>\n",
       "    </tr>\n",
       "    <tr>\n",
       "      <th>4</th>\n",
       "      <td>python pyssa_test/make_pyssa_results.py 00001 ...</td>\n",
       "      <td>6.367574</td>\n",
       "      <td>0.807097</td>\n",
       "      <td>6.063183</td>\n",
       "      <td>23.028373</td>\n",
       "      <td>0.566946</td>\n",
       "      <td>5.751014</td>\n",
       "      <td>7.660804</td>\n",
       "      <td>[7.37642449603, 6.06318282003, 6.17712087803, ...</td>\n",
       "      <td>pyssa</td>\n",
       "      <td>...</td>\n",
       "      <td>0</td>\n",
       "      <td>0</td>\n",
       "      <td>0</td>\n",
       "      <td>0</td>\n",
       "      <td>0</td>\n",
       "      <td>0</td>\n",
       "      <td>0</td>\n",
       "      <td>1</td>\n",
       "      <td>100</td>\n",
       "      <td>100.0</td>\n",
       "    </tr>\n",
       "  </tbody>\n",
       "</table>\n",
       "<p>5 rows × 25 columns</p>\n",
       "</div>"
      ],
      "text/plain": [
       "                                             command        mean    stddev  \\\n",
       "0  python pyssa_test/make_pyssa_results.py 00003 ...   22.109373  1.662900   \n",
       "1  Rscript GillespieSSA_test/make_gillespieSSA_re...  163.526004  2.150417   \n",
       "2  julia biosimjl_test/make_biosim_results.jl 000...    6.164676  0.051317   \n",
       "3  python tellurium_test/make_tel_results.py 0002...    7.517541  0.171825   \n",
       "4  python pyssa_test/make_pyssa_results.py 00001 ...    6.367574  0.807097   \n",
       "\n",
       "       median        user    system         min         max  \\\n",
       "0   22.456144   82.576359  1.941489   19.578285   24.217990   \n",
       "1  163.471765  158.476154  5.380983  160.317272  166.633805   \n",
       "2    6.162064    6.164080  0.423608    6.084711    6.243738   \n",
       "3    7.491469    7.577782  0.379616    7.279652    7.848030   \n",
       "4    6.063183   23.028373  0.566946    5.751014    7.660804   \n",
       "\n",
       "                                               times           lib  ... test1  \\\n",
       "0  [24.217990215420002, 22.456144158420003, 20.43...         pyssa  ...     3   \n",
       "1  [161.96599679168, 162.68475236768, 165.6347120...  GillespieSSA  ...    19   \n",
       "2  [6.210998203105, 6.1357683051050005, 6.1620636...  BioSimulator  ...     1   \n",
       "3  [7.491468931035, 7.848029625035, 7.27965214803...     Tellurium  ...     0   \n",
       "4  [7.37642449603, 6.06318282003, 6.17712087803, ...         pyssa  ...     0   \n",
       "\n",
       "  test2  test3  rtest0  rtest1  rtest2  rtest3  nspecies  ntest  total_pass  \n",
       "0     1      5       0      27       3      12         1    100        58.0  \n",
       "1     0      0       0       0       0       4         2    200        98.0  \n",
       "2     1     28       0       1       1      30         1    100        68.0  \n",
       "3     0      0       0       0       0       0         1    100       100.0  \n",
       "4     0      0       0       0       0       0         1    100       100.0  \n",
       "\n",
       "[5 rows x 25 columns]"
      ]
     },
     "execution_count": 18,
     "metadata": {},
     "output_type": "execute_result"
    }
   ],
   "source": [
    "acc_speed_results = benchmark_results.merge(accuracy_results, how=\"inner\", on = [\"lib\", \"algo\", \"model\"])\n",
    "acc_speed_results.head()"
   ]
  },
  {
   "cell_type": "markdown",
   "metadata": {},
   "source": [
    "---\n",
    "## Speed vs. accuracy comparison"
   ]
  },
  {
   "cell_type": "code",
   "execution_count": 26,
   "metadata": {
    "scrolled": true
   },
   "outputs": [
    {
     "data": {
      "image/png": "[encoded data removed]",
      "text/plain": [
       "<Figure size 1080x720 with 5 Axes>"
      ]
     },
     "metadata": {
      "needs_background": "light"
     },
     "output_type": "display_data"
    }
   ],
   "source": [
    "acc_speed_results[\"Accuracy\"] = acc_speed_results[\"total_pass\"]\n",
    "acc_speed_results[\"Speed\"] = 1/acc_speed_results[\"mean\"]\n",
    "acc_speed_results[\"Library\"] = acc_speed_results[\"lib\"]\n",
    "acc_speed_results[\"Algorithm\"] = acc_speed_results[\"algo\"]\n",
    "\n",
    "models = sorted(set(list(acc_speed_results.model)))\n",
    "this_filter = (acc_speed_results.model == models[0])\n",
    "marker_size = 80\n",
    "fig, ax = plt.subplots(2,3,sharex=True, figsize=([15,10]))\n",
    "fig.suptitle(\"Speed vs. Accuracy\")\n",
    "fig.delaxes(ax[1][2])\n",
    "\n",
    "current_palette = sns.color_palette(\"Set1\", n_colors=5)\n",
    "new_palette = {\"pyssa\":current_palette[1], \"BioSimulator\":current_palette[0],\n",
    "              \"BioSimulatorIntp\":current_palette[2], \"GillespieSSA\":current_palette[3],\n",
    "              \"Tellurium\":current_palette[4]}\n",
    "hue_order = [\"pyssa\", \"BioSimulator\", \"GillespieSSA\", \"Tellurium\"]\n",
    "style_order = [\"direct\", \"tau_leaping\", \"tau_adaptive\"]\n",
    "\n",
    "p = [None] * len(models)\n",
    "for ind, this_model in enumerate(models):\n",
    "    this_filter = (acc_speed_results.model == this_model)\n",
    "    this_ax = ax[ind//3, ind%3]\n",
    "    this_ax.set_title(f\"Model = {this_model}\")\n",
    "    if ind == 0:\n",
    "        p[ind] = sns.scatterplot(x=\"Accuracy\", y=\"Speed\", hue=\"Library\", style=\"Algorithm\", \n",
    "                        data=acc_speed_results[this_filter], s=marker_size,\n",
    "                        hue_order=hue_order, style_order=style_order, palette=new_palette,\n",
    "                        ax = this_ax, alpha=0.5)\n",
    "    else:\n",
    "        p[ind] = sns.scatterplot(x=\"Accuracy\", y=\"Speed\", hue=\"Library\", style=\"Algorithm\", \n",
    "                        data=acc_speed_results[this_filter], s=marker_size,\n",
    "                        hue_order=hue_order, style_order=style_order, palette=new_palette,\n",
    "                        ax = this_ax, legend=False, alpha=0.5)\n",
    "\n",
    "fig.savefig(\"../assets/acc_speed_comparison_all.png\")"
   ]
  },
  {
   "cell_type": "code",
   "execution_count": 29,
   "metadata": {},
   "outputs": [],
   "source": [
    "this_filter = (acc_speed_results.model == \"00001\")\n",
    "p[ind] = sns.scatterplot(x=\"Accuracy\", y=\"Speed\", hue=\"Library\", style=\"Algorithm\", \n",
    "                        data=acc_speed_results[this_filter], s=marker_size,\n",
    "                        hue_order=hue_order, style_order=style_order, palette=new_palette,\n",
    "                        alpha=0.5)\n",
    "plt.xlim(-5, 105)\n",
    "plt.savefig(\"../assets/acc_speed_comparison_example.png\")\n",
    "plt.close()"
   ]
  },
  {
   "cell_type": "markdown",
   "metadata": {},
   "source": [
    "---\n",
    "## Accuracy\n",
    "\n",
    "<Insert figure of Z/Y and mu/sigma ratios>"
   ]
  },
  {
   "cell_type": "code",
   "execution_count": 36,
   "metadata": {},
   "outputs": [
    {
     "data": {
      "image/png": "[encoded data removed]",
      "text/plain": [
       "<Figure size 1008x360 with 1 Axes>"
      ]
     },
     "metadata": {
      "needs_background": "light"
     },
     "output_type": "display_data"
    }
   ],
   "source": [
    "plot_accuracy_barplot(accuracy_results[accuracy_results.lib == \"pyssa\"])"
   ]
  },
  {
   "cell_type": "code",
   "execution_count": 37,
   "metadata": {},
   "outputs": [
    {
     "data": {
      "image/png": "[encoded data removed]",
      "text/plain": [
       "<Figure size 1008x360 with 1 Axes>"
      ]
     },
     "metadata": {
      "needs_background": "light"
     },
     "output_type": "display_data"
    }
   ],
   "source": [
    "plot_accuracy_barplot(accuracy_results[accuracy_results.lib == \"GillespieSSA\"]) # tau = 0.1"
   ]
  },
  {
   "cell_type": "code",
   "execution_count": 38,
   "metadata": {},
   "outputs": [
    {
     "data": {
      "image/png": "[encoded data removed]",
      "text/plain": [
       "<Figure size 1008x360 with 1 Axes>"
      ]
     },
     "metadata": {
      "needs_background": "light"
     },
     "output_type": "display_data"
    }
   ],
   "source": [
    "plot_accuracy_barplot(accuracy_results[accuracy_results.lib == \"Tellurium\"])"
   ]
  },
  {
   "cell_type": "markdown",
   "metadata": {},
   "source": [
    "### Direct"
   ]
  },
  {
   "cell_type": "code",
   "execution_count": 39,
   "metadata": {},
   "outputs": [
    {
     "data": {
      "image/png": "[encoded data removed]",
      "text/plain": [
       "<Figure size 1008x360 with 1 Axes>"
      ]
     },
     "metadata": {
      "needs_background": "light"
     },
     "output_type": "display_data"
    }
   ],
   "source": [
    "plot_accuracy_barplot(accuracy_results[accuracy_results.algo == \"direct\"], hue=\"lib\")"
   ]
  },
  {
   "cell_type": "markdown",
   "metadata": {},
   "source": [
    "Model | Fail | Reason\n",
    "---|---|---\n",
    "00001 | No | n/a\n",
    "00003 | Yes, all | Even the C library says it will fail\n",
    "00004 | Yes, BioSimulatorIntp | BioSimulatorIntp (BioSimulator internal interpolation not accurate)\n",
    "00005 | DNF, all | Tellurium is probably not doing direct\n",
    "00011 | No | n/a (99 is okay) \n",
    "00020 | Yes, BioSimulatorIntp | BioSimulatorIntp accuracy fails at high slope/quick change regions\n",
    "00021 | Yes, BioSimulatorIntp | BioSimulatorIntp accuracy fails at high slope/quick change regions\n",
    "00022 | Yes, BioSimulatorIntp | BioSimulatorIntp accuracy fails at high slope/quick change regions\n",
    "00023 | DNF, all | Tellurium is probably not doing direct\n",
    "00030 | Yes, Tellurium, BiosimulatorIntp | Tellurium fails even when rate expression is hardcoded as per `sbml-test-suite`. BiosimulatorIntp fails at high slope and low slope regions.\n",
    "00031 | Yes, Tellurium, BiosimulatorIntp |  Tellurium fails even when rate expression is hardcoded as per `sbml-test-suite`. BiosimulatorIntp fails at high slope/quick change regions.\n",
    "00037 | Yes, BiosimulatorIntp | BioSimulatorIntp accuracy fails at high slope/quick change regions\n",
    "00038 | Yes, BiosimulatorIntp | BioSimulatorIntp accuracy fails at high slope/quick change regions\n",
    "00039 | Yes, , BiosimulatorIntp | Fails completely because it returns an incorrect steady state."
   ]
  },
  {
   "cell_type": "markdown",
   "metadata": {},
   "source": [
    "# Tau leaping"
   ]
  },
  {
   "cell_type": "code",
   "execution_count": 40,
   "metadata": {},
   "outputs": [
    {
     "data": {
      "image/png": "[encoded data removed]",
      "text/plain": [
       "<Figure size 1008x360 with 1 Axes>"
      ]
     },
     "metadata": {
      "needs_background": "light"
     },
     "output_type": "display_data"
    }
   ],
   "source": [
    "plot_accuracy_barplot(accuracy_results[accuracy_results.algo == \"tau_leaping\"], hue=\"lib\")"
   ]
  },
  {
   "cell_type": "markdown",
   "metadata": {},
   "source": [
    "Model | Fail | Reason\n",
    "---|---|---\n",
    "00001 | Yes, BioSimulatorIntp | BioSimulatorIntp accuracy fails at high slope/quick change regions\n",
    "00003 | Yes, all | Even the C library says it will fail. BioSimulatorIntp is worse.\n",
    "00004 | Yes, BioSimulatorIntp | BioSimulatorIntp accuracy fails at high slope/quick change regions\n",
    "00005 | Yes, BioSimulatorIntp | BioSimulatorIntp accuracy fails at high slope/quick change regions\n",
    "00011 | Yes, BioSimulatorIntp | BioSimulatorIntp accuracy fails at high slope/quick change regions\n",
    "00020 | Yes, Biosimulator, BiosimulatorIntp and GillespieSSA | All fail because of 0 species. \n",
    "00021 | Yes, Biosimulator, BiosimulatorIntp and GillespieSSA | All fail because of 0 species. \n",
    "00022 | Yes, Biosimulator, BiosimulatorIntp and GillespieSSA  | All fail because of 0 species. \n",
    "00023 | Yes, Biosimulator, BiosimulatorIntp and GillespieSSA  | All fail because of 0 species.\n",
    "00030 | Yes, Biosimulator, BiosimulatorIntp  | All fail because one species is 0.\n",
    "00031 | Yes, Biosimulator, BiosimulatorIntp | All fail because one species is 0.\n",
    "00037 | Yes, Biosimulator, BiosimulatorIntp and GillespieSSA | All fail because of 0 species. \n",
    "00038 | Yes, Biosimulator, BiosimulatorIntp and GillespieSSA | All fail because of 0 species. \n",
    "00039 | Yes, all | Biosimulator, BiosimulatorIntp and GillespieSSA fails because of 0 species. `pyssa` fails, likely because of high tau. BioSimulator converges to the wrong mean value, but the model seems right (since it was copied and modified from 37, 38 and those converge to correct value. Strangely BioSimulator SD converges)\n",
    "\n",
    ">NOTE:\n",
    ">These results use $\\mu$ and $\\sigma$ ratios as the test statistic"
   ]
  },
  {
   "cell_type": "markdown",
   "metadata": {},
   "source": [
    "# Tau adaptive"
   ]
  },
  {
   "cell_type": "code",
   "execution_count": 42,
   "metadata": {},
   "outputs": [
    {
     "data": {
      "image/png": "[encoded data removed]",
      "text/plain": [
       "<Figure size 1008x360 with 1 Axes>"
      ]
     },
     "metadata": {
      "needs_background": "light"
     },
     "output_type": "display_data"
    }
   ],
   "source": [
    "plot_accuracy_barplot(accuracy_results[accuracy_results.algo == \"tau_adaptive\"], hue=\"lib\")"
   ]
  },
  {
   "cell_type": "markdown",
   "metadata": {},
   "source": [
    "Model | Fail | Reason\n",
    "---|---|---\n",
    "00001 | Yes, Biosimulator and BiosimulatorIntp | SD (ratio) is lower than expected\n",
    "00003 | Yes, pyssa, Biosimulator and BiosimulatorIntp | Mean and SD (ratios) are higher than expected\n",
    "00004 | Yes, Biosimulator and BiosimulatorIntp | Mean is high and SD is lower than expected\n",
    "00005 | Yes, Biosimulator and BiosimulatorIntp | SD is lower than expected\n",
    "00011 | Yes, Biosimulator and BiosimulatorIntp | SD is lower than expected\n",
    "00020 | Yes, Biosimulator, BiosimulatorIntp and GillespieSSA | Gillespie fails because of 0 species. Mean and SD ratios are randomly fluctuating\n",
    "00021 | Yes, Biosimulator, BiosimulatorIntp and GillespieSSA | Gillespie fails because of 0 species. SD is higher than expected\n",
    "00022 | Yes, Biosimulator, BiosimulatorIntp and GillespieSSA | Gillespie fails because of 0 species. SD is higher than expected\n",
    "00023 | Yes, all | GillespieSSA fails because of 0 species. Deviation in mean and SD ratios.\n",
    "00030 | Yes, pyssa, Biosimulator and BiosimulatorIntp | Deviation in mean and SD ratios.\n",
    "00031 | Yes, Biosimulator and BiosimulatorIntp | High SD ratios.\n",
    "00037 | Yes, all | GillespieSSA fails because of 0 species. Deviation in mean and SD ratios.\n",
    "00038 | Yes, all | GillespieSSA fails because of 0 species. Deviation in mean and SD ratios.\n",
    "00039 | Yes, all | GillespieSSA fails because of 0 species. Deviation in mean and SD ratios.\n",
    "\n",
    ">NOTE:\n",
    ">These results use $\\mu$ and $\\sigma$ ratios as the test statistic"
   ]
  },
  {
   "cell_type": "markdown",
   "metadata": {},
   "source": [
    "<style type=\"text/css\">\n",
    ".tg  {border-collapse:collapse;border-spacing:0;}\n",
    ".tg td{border-style:solid;border-width:0px;font-family:Arial, sans-serif;font-size:14px;overflow:hidden;\n",
    "  padding:10px 5px;word-break:normal;}\n",
    ".tg th{border-style:solid;border-width:0px;font-family:Arial, sans-serif;font-size:14px;font-weight:normal;\n",
    "  overflow:hidden;padding:10px 5px;word-break:normal;}\n",
    ".tg .tg-0lax{text-align:left;vertical-align:top}\n",
    ".tg .tg-green{background-color:#c6e0b4;border-color:#000000;text-align:left;vertical-align:top}\n",
    ".tg .tg-orange{background-color:#ffe685;border-color:#000000;text-align:left;vertical-align:top}\n",
    ".tg .tg-73oq{border-color:#000000;text-align:left;vertical-align:top}\n",
    ".tg .tg-red{background-color:#f4b084;border-color:#000000;text-align:left;vertical-align:top}\n",
    "</style>\n",
    "<table class=\"tg\">\n",
    "<thead>\n",
    "  <tr>\n",
    "    <th class=\"tg-0lax\"></th>\n",
    "    <th class=\"tg-0lax\">direct</th>\n",
    "    <th class=\"tg-0lax\">tau_leaping</th>\n",
    "    <th class=\"tg-0lax\">tau_adaptive</th>\n",
    "  </tr>\n",
    "</thead>\n",
    "<tbody>\n",
    "  <tr>\n",
    "    <td class=\"tg-0lax\">pyssa</td>\n",
    "    <td class=\"tg-green\">Most   accurate yet</td>\n",
    "    <td class=\"tg-green\">Very fast but may need manual tuning</td>\n",
    "    <td class=\"tg-orange\">Less   accurate than GillespieSSA's version</td>\n",
    "  </tr>\n",
    "  <tr>\n",
    "    <td class=\"tg-0lax\">Tellurium</td>\n",
    "    <td class=\"tg-orange\">Inaccurate   for 2nd order</td>\n",
    "    <td class=\"tg-73oq\">N/A</td>\n",
    "    <td class=\"tg-73oq\">N/A</td>\n",
    "  </tr>\n",
    "  <tr>\n",
    "    <td class=\"tg-0lax\">GillespieSSA</td>\n",
    "    <td class=\"tg-orange\">Very   slow</td>\n",
    "    <td class=\"tg-red\">Inaccurate   for initial zero counts</td>\n",
    "    <td class=\"tg-red\">Inaccurate   for initial zero counts</td>\n",
    "  </tr>\n",
    "  <tr>\n",
    "    <td class=\"tg-0lax\">BioSimulator.jl</td>\n",
    "    <td class=\"tg-orange\">Inaccurate   interpolation</td>\n",
    "    <td class=\"tg-red\">Inaccurate   for initial zero counts</td>\n",
    "    <td class=\"tg-red\">Inaccurate   for initial zero counts</td>\n",
    "  </tr>\n",
    "</tbody>\n",
    "</table>"
   ]
  },
  {
   "cell_type": "markdown",
   "metadata": {},
   "source": [
    "# Appendix\n"
   ]
  }
 ],
 "metadata": {
  "kernelspec": {
   "display_name": "Python 3",
   "language": "python",
   "name": "python3"
  },
  "language_info": {
   "codemirror_mode": {
    "name": "ipython",
    "version": 3
   },
   "file_extension": ".py",
   "mimetype": "text/x-python",
   "name": "python",
   "nbconvert_exporter": "python",
   "pygments_lexer": "ipython3",
   "version": "3.6.9"
  }
 },
 "nbformat": 4,
 "nbformat_minor": 2
}
